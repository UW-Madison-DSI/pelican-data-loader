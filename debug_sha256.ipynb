{
 "cells": [
  {
   "cell_type": "code",
   "execution_count": null,
   "id": "62dc5485",
   "metadata": {},
   "outputs": [
    {
     "ename": "GenerationError",
     "evalue": "An error occured during the streaming generation of the dataset, more specifically during the operation Download(dsi_s3_bucket)",
     "output_type": "error",
     "traceback": [
      "\u001b[31m---------------------------------------------------------------------------\u001b[39m",
      "\u001b[31mValueError\u001b[39m                                Traceback (most recent call last)",
      "\u001b[36mFile \u001b[39m\u001b[32m~/pelican-data-loader/.venv/lib/python3.12/site-packages/mlcroissant/_src/operation_graph/execute.py:119\u001b[39m, in \u001b[36mexecute_operations_in_streaming\u001b[39m\u001b[34m(record_set, operations, list_of_operations, result)\u001b[39m\n\u001b[32m    118\u001b[39m         logging.info(\u001b[33m\"\u001b[39m\u001b[33mExecuting \u001b[39m\u001b[38;5;132;01m%s\u001b[39;00m\u001b[33m\"\u001b[39m, operation)\n\u001b[32m--> \u001b[39m\u001b[32m119\u001b[39m         result = \u001b[43moperation\u001b[49m\u001b[43m.\u001b[49m\u001b[43mcall\u001b[49m\u001b[43m(\u001b[49m\u001b[43mresult\u001b[49m\u001b[43m)\u001b[49m\n\u001b[32m    120\u001b[39m \u001b[38;5;28;01mexcept\u001b[39;00m \u001b[38;5;167;01mException\u001b[39;00m \u001b[38;5;28;01mas\u001b[39;00m e:\n",
      "\u001b[36mFile \u001b[39m\u001b[32m~/pelican-data-loader/.venv/lib/python3.12/site-packages/mlcroissant/_src/operation_graph/operations/download.py:233\u001b[39m, in \u001b[36mDownload.call\u001b[39m\u001b[34m(***failed resolving arguments***)\u001b[39m\n\u001b[32m    232\u001b[39m         \u001b[38;5;28mself\u001b[39m._download_from_http(filepath)\n\u001b[32m--> \u001b[39m\u001b[32m233\u001b[39m \u001b[38;5;28;43mself\u001b[39;49m\u001b[43m.\u001b[49m\u001b[43m_check_hash\u001b[49m\u001b[43m(\u001b[49m\u001b[43mfilepath\u001b[49m\u001b[43m)\u001b[49m\n\u001b[32m    234\u001b[39m logging.info(\n\u001b[32m    235\u001b[39m     \u001b[33m\"\u001b[39m\u001b[33mFile \u001b[39m\u001b[38;5;132;01m%s\u001b[39;00m\u001b[33m is downloaded to \u001b[39m\u001b[38;5;132;01m%s\u001b[39;00m\u001b[33m\"\u001b[39m, \u001b[38;5;28mself\u001b[39m.node.content_url, os.fspath(filepath)\n\u001b[32m    236\u001b[39m )\n",
      "\u001b[36mFile \u001b[39m\u001b[32m~/pelican-data-loader/.venv/lib/python3.12/site-packages/mlcroissant/_src/operation_graph/operations/download.py:179\u001b[39m, in \u001b[36mDownload._check_hash\u001b[39m\u001b[34m(self, filepath)\u001b[39m\n\u001b[32m    178\u001b[39m \u001b[38;5;28;01mif\u001b[39;00m \u001b[38;5;129;01mnot\u001b[39;00m ctx.is_v0():\n\u001b[32m--> \u001b[39m\u001b[32m179\u001b[39m     \u001b[38;5;28;01mraise\u001b[39;00m \u001b[38;5;167;01mValueError\u001b[39;00m(\n\u001b[32m    180\u001b[39m         \u001b[33mf\u001b[39m\u001b[33m\"\u001b[39m\u001b[33mHash of downloaded file \u001b[39m\u001b[38;5;132;01m{\u001b[39;00mfilepath\u001b[38;5;132;01m}\u001b[39;00m\u001b[33m is not identical with the\u001b[39m\u001b[33m\"\u001b[39m\n\u001b[32m    181\u001b[39m         \u001b[33mf\u001b[39m\u001b[33m\"\u001b[39m\u001b[33m reference in the Croissant JSON-LD. Expected: \u001b[39m\u001b[38;5;132;01m{\u001b[39;00mexpected_hash\u001b[38;5;132;01m}\u001b[39;00m\u001b[33m -\u001b[39m\u001b[33m\"\u001b[39m\n\u001b[32m    182\u001b[39m         \u001b[33mf\u001b[39m\u001b[33m\"\u001b[39m\u001b[33m Got: \u001b[39m\u001b[38;5;132;01m{\u001b[39;00mhex_hash\u001b[38;5;132;01m}\u001b[39;00m\u001b[33m (hex) / \u001b[39m\u001b[38;5;132;01m{\u001b[39;00mbase64_hash\u001b[38;5;132;01m}\u001b[39;00m\u001b[33m (base64)\u001b[39m\u001b[33m\"\u001b[39m\n\u001b[32m    183\u001b[39m     )\n",
      "\u001b[31mValueError\u001b[39m: Hash of downloaded file /home/lcmjlo/.cache/croissant/download/croissant-4aab92d0e1bae15eff215a309964addaaeeed58017fd16864d5c2d07985a6ace is not identical with the reference in the Croissant JSON-LD. Expected: main - Got: e104668d14aa325dab39a8e9f2a7d70f640ecc44cd7f4854555c89387033bfb6 (hex) / 4QRmjRSqMl2rOajp8qfXD2QOzETNf0hUVVyJOHAzv7Y= (base64)",
      "\nThe above exception was the direct cause of the following exception:\n",
      "\u001b[31mGenerationError\u001b[39m                           Traceback (most recent call last)",
      "\u001b[36mCell\u001b[39m\u001b[36m \u001b[39m\u001b[32mIn[5]\u001b[39m\u001b[32m, line 9\u001b[39m\n\u001b[32m      7\u001b[39m ds = Dataset(jsonld=jsonld)\n\u001b[32m      8\u001b[39m records = ds.records(\u001b[33m\"\u001b[39m\u001b[33mbird_migration_data_record_set\u001b[39m\u001b[33m\"\u001b[39m)\n\u001b[32m----> \u001b[39m\u001b[32m9\u001b[39m \u001b[38;5;28;43;01mfor\u001b[39;49;00m\u001b[43m \u001b[49m\u001b[43mrecord\u001b[49m\u001b[43m \u001b[49m\u001b[38;5;129;43;01min\u001b[39;49;00m\u001b[43m \u001b[49m\u001b[43mrecords\u001b[49m\u001b[43m:\u001b[49m\n\u001b[32m     10\u001b[39m \u001b[43m    \u001b[49m\u001b[38;5;28;43mprint\u001b[39;49m\u001b[43m(\u001b[49m\u001b[43mrecord\u001b[49m\u001b[43m)\u001b[49m\n\u001b[32m     11\u001b[39m \u001b[43m    \u001b[49m\u001b[38;5;28;43;01mbreak\u001b[39;49;00m\n",
      "\u001b[36mFile \u001b[39m\u001b[32m~/pelican-data-loader/.venv/lib/python3.12/site-packages/mlcroissant/_src/datasets.py:166\u001b[39m, in \u001b[36mRecords.__iter__\u001b[39m\u001b[34m(self)\u001b[39m\n\u001b[32m    161\u001b[39m \u001b[38;5;66;03m# We can stream the dataset iff the operation graph is a path graph (meaning\u001b[39;00m\n\u001b[32m    162\u001b[39m \u001b[38;5;66;03m# that all operations lie on a single straight line, i.e. have an\u001b[39;00m\n\u001b[32m    163\u001b[39m \u001b[38;5;66;03m# in-degree of 0 or 1. That means that the operation graph is a single line\u001b[39;00m\n\u001b[32m    164\u001b[39m \u001b[38;5;66;03m# (without external joins for example).\u001b[39;00m\n\u001b[32m    165\u001b[39m \u001b[38;5;28;01mif\u001b[39;00m _is_streamable_dataset(operations):\n\u001b[32m--> \u001b[39m\u001b[32m166\u001b[39m     \u001b[38;5;28;01myield from\u001b[39;00m execute_operations_in_streaming(\n\u001b[32m    167\u001b[39m         record_set=\u001b[38;5;28mself\u001b[39m.record_set,\n\u001b[32m    168\u001b[39m         operations=operations,\n\u001b[32m    169\u001b[39m     )\n\u001b[32m    170\u001b[39m \u001b[38;5;28;01melse\u001b[39;00m:\n\u001b[32m    171\u001b[39m     \u001b[38;5;28;01myield from\u001b[39;00m execute_operations_sequentially(\n\u001b[32m    172\u001b[39m         record_set=\u001b[38;5;28mself\u001b[39m.record_set, operations=operations\n\u001b[32m    173\u001b[39m     )\n",
      "\u001b[36mFile \u001b[39m\u001b[32m~/pelican-data-loader/.venv/lib/python3.12/site-packages/mlcroissant/_src/operation_graph/execute.py:121\u001b[39m, in \u001b[36mexecute_operations_in_streaming\u001b[39m\u001b[34m(record_set, operations, list_of_operations, result)\u001b[39m\n\u001b[32m    119\u001b[39m         result = operation.call(result)\n\u001b[32m    120\u001b[39m \u001b[38;5;28;01mexcept\u001b[39;00m \u001b[38;5;167;01mException\u001b[39;00m \u001b[38;5;28;01mas\u001b[39;00m e:\n\u001b[32m--> \u001b[39m\u001b[32m121\u001b[39m     \u001b[38;5;28;01mraise\u001b[39;00m GenerationError(\n\u001b[32m    122\u001b[39m         \u001b[33m\"\u001b[39m\u001b[33mAn error occured during the streaming generation of the dataset, more\u001b[39m\u001b[33m\"\u001b[39m\n\u001b[32m    123\u001b[39m         \u001b[33mf\u001b[39m\u001b[33m\"\u001b[39m\u001b[33m specifically during the operation \u001b[39m\u001b[38;5;132;01m{\u001b[39;00moperation\u001b[38;5;132;01m}\u001b[39;00m\u001b[33m\"\u001b[39m\n\u001b[32m    124\u001b[39m     ) \u001b[38;5;28;01mfrom\u001b[39;00m\u001b[38;5;250m \u001b[39m\u001b[34;01me\u001b[39;00m\n",
      "\u001b[31mGenerationError\u001b[39m: An error occured during the streaming generation of the dataset, more specifically during the operation Download(dsi_s3_bucket)"
     ]
    }
   ],
   "source": [
    "import json\n",
    "from pathlib import Path\n",
    "\n",
    "from mlcroissant import Dataset\n",
    "\n",
    "jsonld = json.loads(Path(\"data/bird_migration_metadata.json\").read_text())\n",
    "ds = Dataset(jsonld=jsonld)\n",
    "records = ds.records(\"bird_migration_data_record_set\")\n",
    "for record in records:\n",
    "    print(record)\n",
    "    break"
   ]
  }
 ],
 "metadata": {
  "kernelspec": {
   "display_name": ".venv",
   "language": "python",
   "name": "python3"
  },
  "language_info": {
   "codemirror_mode": {
    "name": "ipython",
    "version": 3
   },
   "file_extension": ".py",
   "mimetype": "text/x-python",
   "name": "python",
   "nbconvert_exporter": "python",
   "pygments_lexer": "ipython3",
   "version": "3.12.3"
  }
 },
 "nbformat": 4,
 "nbformat_minor": 5
}
