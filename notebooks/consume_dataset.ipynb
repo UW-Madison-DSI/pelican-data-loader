{
 "cells": [
  {
   "cell_type": "markdown",
   "id": "74d72c00",
   "metadata": {},
   "source": [
    "# Consuming dataset\n",
    "\n",
    "After publishing to the dataset repository, we expect end users to incorporate it into their machine learning workflows. The easiest way to do this is by using the [Hugging Face Datasets](https://huggingface.co/docs/datasets/en/index) library, which offers excellent integration with all major ML frameworks.\n"
   ]
  },
  {
   "cell_type": "code",
   "execution_count": 1,
   "id": "be6be044",
   "metadata": {},
   "outputs": [
    {
     "name": "stderr",
     "output_type": "stream",
     "text": [
      "/home/lcmjlo/pelican-data-loader/.venv/lib/python3.12/site-packages/tqdm/auto.py:21: TqdmWarning: IProgress not found. Please update jupyter and ipywidgets. See https://ipywidgets.readthedocs.io/en/stable/user_install.html\n",
      "  from .autonotebook import tqdm as notebook_tqdm\n"
     ]
    }
   ],
   "source": [
    "from datasets import load_dataset"
   ]
  },
  {
   "cell_type": "code",
   "execution_count": null,
   "id": "99f592f9",
   "metadata": {},
   "outputs": [],
   "source": [
    "from pelicanfs.core import PelicanFileSystem\n",
    "\n",
    "pelfs = PelicanFileSystem(\"pelican://uwdf-director.chtc.wisc.edu\")\n"
   ]
  },
  {
   "cell_type": "code",
   "execution_count": 4,
   "id": "b2d36c22",
   "metadata": {},
   "outputs": [
    {
     "name": "stderr",
     "output_type": "stream",
     "text": [
      "Downloading data: 100%|██████████| 2.78M/2.78M [00:00<00:00, 22.0MB/s]\n",
      "Generating train split: 10000 examples [00:00, 159799.45 examples/s]\n"
     ]
    }
   ],
   "source": [
    "# To be added mapping local fs to S3 or Pelican layer\n",
    "# For now, we will use the local file system to load the dataset.\n",
    "\n",
    "dataset = load_dataset(\"csv\", data_files=\"pelican://uwdf-director.chtc.wisc.edu/wisc.edu/dsi/pytorch/bird_migration_data.csv\")\n",
    "torch_dataset = dataset.with_format(\"torch\")"
   ]
  },
  {
   "cell_type": "code",
   "execution_count": 5,
   "id": "e6854a3e",
   "metadata": {},
   "outputs": [
    {
     "data": {
      "text/plain": [
       "DatasetDict({\n",
       "    train: Dataset({\n",
       "        features: ['Bird_ID', 'Species', 'Region', 'Habitat', 'Weather_Condition', 'Migration_Reason', 'Start_Latitude', 'Start_Longitude', 'End_Latitude', 'End_Longitude', 'Flight_Distance_km', 'Flight_Duration_hours', 'Average_Speed_kmph', 'Max_Altitude_m', 'Min_Altitude_m', 'Temperature_C', 'Wind_Speed_kmph', 'Humidity_pc', 'Pressure_hPa', 'Visibility_km', 'Nesting_Success', 'Tag_Battery_Level_pc', 'Signal_Strength_dB', 'Migration_Start_Month', 'Migration_End_Month', 'Rest_Stops', 'Predator_Sightings', 'Tag_Type', 'Migrated_in_Flock', 'Flock_Size', 'Food_Supply_Level', 'Tracking_Quality', 'Migration_Interrupted', 'Interrupted_Reason', 'Tagged_By', 'Tag_Weight_g', 'Migration_Success', 'Recovery_Location_Known', 'Recovery_Time_days', 'Observation_Counts', 'Observation_Quality'],\n",
       "        num_rows: 10000\n",
       "    })\n",
       "})"
      ]
     },
     "execution_count": 5,
     "metadata": {},
     "output_type": "execute_result"
    }
   ],
   "source": [
    "torch_dataset"
   ]
  },
  {
   "cell_type": "code",
   "execution_count": 6,
   "id": "2561fd9e",
   "metadata": {},
   "outputs": [
    {
     "data": {
      "text/plain": [
       "{'Bird_ID': 'B1000',\n",
       " 'Species': 'Warbler',\n",
       " 'Region': 'South America',\n",
       " 'Habitat': 'Grassland',\n",
       " 'Weather_Condition': 'Stormy',\n",
       " 'Migration_Reason': 'Feeding',\n",
       " 'Start_Latitude': tensor(11.9066),\n",
       " 'Start_Longitude': tensor(-169.3783),\n",
       " 'End_Latitude': tensor(30.3776),\n",
       " 'End_Longitude': tensor(-21.3669),\n",
       " 'Flight_Distance_km': tensor(1753.7900),\n",
       " 'Flight_Duration_hours': tensor(49.5000),\n",
       " 'Average_Speed_kmph': tensor(47.8200),\n",
       " 'Max_Altitude_m': tensor(5280),\n",
       " 'Min_Altitude_m': tensor(285),\n",
       " 'Temperature_C': tensor(-2.2000),\n",
       " 'Wind_Speed_kmph': tensor(9.1000),\n",
       " 'Humidity_pc': tensor(43),\n",
       " 'Pressure_hPa': tensor(1030.3000),\n",
       " 'Visibility_km': tensor(1.5000),\n",
       " 'Nesting_Success': 'No',\n",
       " 'Tag_Battery_Level_pc': tensor(45),\n",
       " 'Signal_Strength_dB': tensor(-64.9000),\n",
       " 'Migration_Start_Month': 'Jan',\n",
       " 'Migration_End_Month': 'Apr',\n",
       " 'Rest_Stops': tensor(3),\n",
       " 'Predator_Sightings': tensor(6),\n",
       " 'Tag_Type': 'Radio',\n",
       " 'Migrated_in_Flock': 'Yes',\n",
       " 'Flock_Size': tensor(264),\n",
       " 'Food_Supply_Level': 'Low',\n",
       " 'Tracking_Quality': 'Excellent',\n",
       " 'Migration_Interrupted': 'Yes',\n",
       " 'Interrupted_Reason': 'Storm',\n",
       " 'Tagged_By': 'Researcher_A',\n",
       " 'Tag_Weight_g': tensor(27.),\n",
       " 'Migration_Success': 'Failed',\n",
       " 'Recovery_Location_Known': 'No',\n",
       " 'Recovery_Time_days': tensor(102),\n",
       " 'Observation_Counts': tensor(56),\n",
       " 'Observation_Quality': 'Low'}"
      ]
     },
     "execution_count": 6,
     "metadata": {},
     "output_type": "execute_result"
    }
   ],
   "source": [
    "torch_dataset[\"train\"][0]"
   ]
  },
  {
   "cell_type": "markdown",
   "id": "5b99a5a2",
   "metadata": {},
   "source": [
    "Technically, we can also consume via mlcroissant's `Dataset`, but it is very buggy, not recommended."
   ]
  },
  {
   "cell_type": "code",
   "execution_count": 6,
   "id": "adc1c7c5",
   "metadata": {},
   "outputs": [],
   "source": [
    "from mlcroissant import Dataset\n",
    "import itertools\n",
    "import pandas as pd\n"
   ]
  },
  {
   "cell_type": "code",
   "execution_count": 7,
   "id": "5190620b",
   "metadata": {},
   "outputs": [
    {
     "data": {
      "application/vnd.microsoft.datawrangler.viewer.v0+json": {
       "columns": [
        {
         "name": "index",
         "rawType": "int64",
         "type": "integer"
        },
        {
         "name": "bird_migration_data/Bird_ID",
         "rawType": "object",
         "type": "unknown"
        },
        {
         "name": "bird_migration_data/Species",
         "rawType": "object",
         "type": "unknown"
        },
        {
         "name": "bird_migration_data/Region",
         "rawType": "object",
         "type": "unknown"
        },
        {
         "name": "bird_migration_data/Habitat",
         "rawType": "object",
         "type": "unknown"
        },
        {
         "name": "bird_migration_data/Weather_Condition",
         "rawType": "object",
         "type": "unknown"
        },
        {
         "name": "bird_migration_data/Migration_Reason",
         "rawType": "object",
         "type": "unknown"
        },
        {
         "name": "bird_migration_data/Start_Latitude",
         "rawType": "float64",
         "type": "float"
        },
        {
         "name": "bird_migration_data/Start_Longitude",
         "rawType": "float64",
         "type": "float"
        },
        {
         "name": "bird_migration_data/End_Latitude",
         "rawType": "float64",
         "type": "float"
        },
        {
         "name": "bird_migration_data/End_Longitude",
         "rawType": "float64",
         "type": "float"
        },
        {
         "name": "bird_migration_data/Flight_Distance_km",
         "rawType": "float64",
         "type": "float"
        },
        {
         "name": "bird_migration_data/Flight_Duration_hours",
         "rawType": "float64",
         "type": "float"
        },
        {
         "name": "bird_migration_data/Average_Speed_kmph",
         "rawType": "float64",
         "type": "float"
        },
        {
         "name": "bird_migration_data/Max_Altitude_m",
         "rawType": "int64",
         "type": "integer"
        },
        {
         "name": "bird_migration_data/Min_Altitude_m",
         "rawType": "int64",
         "type": "integer"
        },
        {
         "name": "bird_migration_data/Temperature_C",
         "rawType": "float64",
         "type": "float"
        },
        {
         "name": "bird_migration_data/Wind_Speed_kmph",
         "rawType": "float64",
         "type": "float"
        },
        {
         "name": "bird_migration_data/Humidity_pc",
         "rawType": "int64",
         "type": "integer"
        },
        {
         "name": "bird_migration_data/Pressure_hPa",
         "rawType": "float64",
         "type": "float"
        },
        {
         "name": "bird_migration_data/Visibility_km",
         "rawType": "float64",
         "type": "float"
        },
        {
         "name": "bird_migration_data/Nesting_Success",
         "rawType": "object",
         "type": "unknown"
        },
        {
         "name": "bird_migration_data/Tag_Battery_Level_pc",
         "rawType": "int64",
         "type": "integer"
        },
        {
         "name": "bird_migration_data/Signal_Strength_dB",
         "rawType": "float64",
         "type": "float"
        },
        {
         "name": "bird_migration_data/Migration_Start_Month",
         "rawType": "object",
         "type": "unknown"
        },
        {
         "name": "bird_migration_data/Migration_End_Month",
         "rawType": "object",
         "type": "unknown"
        },
        {
         "name": "bird_migration_data/Rest_Stops",
         "rawType": "int64",
         "type": "integer"
        },
        {
         "name": "bird_migration_data/Predator_Sightings",
         "rawType": "int64",
         "type": "integer"
        },
        {
         "name": "bird_migration_data/Tag_Type",
         "rawType": "object",
         "type": "unknown"
        },
        {
         "name": "bird_migration_data/Migrated_in_Flock",
         "rawType": "object",
         "type": "unknown"
        },
        {
         "name": "bird_migration_data/Flock_Size",
         "rawType": "int64",
         "type": "integer"
        },
        {
         "name": "bird_migration_data/Food_Supply_Level",
         "rawType": "object",
         "type": "unknown"
        },
        {
         "name": "bird_migration_data/Tracking_Quality",
         "rawType": "object",
         "type": "unknown"
        },
        {
         "name": "bird_migration_data/Migration_Interrupted",
         "rawType": "object",
         "type": "unknown"
        },
        {
         "name": "bird_migration_data/Interrupted_Reason",
         "rawType": "object",
         "type": "unknown"
        },
        {
         "name": "bird_migration_data/Tagged_By",
         "rawType": "object",
         "type": "unknown"
        },
        {
         "name": "bird_migration_data/Tag_Weight_g",
         "rawType": "float64",
         "type": "float"
        },
        {
         "name": "bird_migration_data/Migration_Success",
         "rawType": "object",
         "type": "unknown"
        },
        {
         "name": "bird_migration_data/Recovery_Location_Known",
         "rawType": "object",
         "type": "unknown"
        },
        {
         "name": "bird_migration_data/Recovery_Time_days",
         "rawType": "int64",
         "type": "integer"
        },
        {
         "name": "bird_migration_data/Observation_Counts",
         "rawType": "int64",
         "type": "integer"
        },
        {
         "name": "bird_migration_data/Observation_Quality",
         "rawType": "object",
         "type": "unknown"
        }
       ],
       "ref": "f262cb95-8538-4f5f-92ee-b86682544d87",
       "rows": [
        [
         "0",
         "b'B1000'",
         "b'Warbler'",
         "b'South America'",
         "b'Grassland'",
         "b'Stormy'",
         "b'Feeding'",
         "11.906566441337574",
         "-169.37825068830264",
         "30.37764666430312",
         "-21.36687925839209",
         "1753.79",
         "49.5",
         "47.82",
         "5280",
         "285",
         "-2.2",
         "9.1",
         "43",
         "1030.3",
         "1.5",
         "b'No'",
         "45",
         "-64.9",
         "b'Jan'",
         "b'Apr'",
         "3",
         "6",
         "b'Radio'",
         "b'Yes'",
         "264",
         "b'Low'",
         "b'Excellent'",
         "b'Yes'",
         "b'Storm'",
         "b'Researcher_A'",
         "27.0",
         "b'Failed'",
         "b'No'",
         "102",
         "56",
         "b'Low'"
        ],
        [
         "1",
         "b'B1001'",
         "b'Stork'",
         "b'North America'",
         "b'Grassland'",
         "b'Stormy'",
         "b'Breeding'",
         "62.301545854189925",
         "-111.47506945435978",
         "39.92109196071499",
         "47.96343632717577",
         "3263.05",
         "46.1",
         "48.41",
         "3166",
         "896",
         "6.6",
         "59.6",
         "50",
         "1006.6",
         "1.5",
         "b'Yes'",
         "58",
         "-68.0",
         "b'Apr'",
         "b'Dec'",
         "2",
         "3",
         "b'Radio'",
         "b'Yes'",
         "212",
         "b'High'",
         "b'Good'",
         "b'Yes'",
         "b'Injury'",
         "b'Researcher_C'",
         "14.2",
         "b'Successful'",
         "b'Yes'",
         "118",
         "61",
         "b'Low'"
        ],
        [
         "2",
         "b'B1002'",
         "b'Hawk'",
         "b'South America'",
         "b'Mountain'",
         "b'Stormy'",
         "b'Avoid Predators'",
         "87.86116387126651",
         "-78.72732718179907",
         "66.9909803844028",
         "19.44846614106183",
         "2871.65",
         "30.2",
         "57.36",
         "5880",
         "444",
         "31.0",
         "12.3",
         "88",
         "969.6",
         "1.5",
         "b'Yes'",
         "82",
         "-71.9",
         "b'May'",
         "b'Nov'",
         "2",
         "3",
         "b'GPS'",
         "b'Yes'",
         "340",
         "b'High'",
         "b'Fair'",
         "b'No'",
         "b'Lost Signal'",
         "b'Researcher_B'",
         "16.1",
         "b'Failed'",
         "b'No'",
         "41",
         "71",
         "b'High'"
        ],
        [
         "3",
         "b'B1003'",
         "b'Warbler'",
         "b'South America'",
         "b'Urban'",
         "b'Stormy'",
         "b'Climate Change'",
         "35.77058955392532",
         "153.1043405316318",
         "-49.00314464266457",
         "-157.86874351896182",
         "2317.38",
         "58.7",
         "55.38",
         "1120",
         "806",
         "11.0",
         "16.4",
         "19",
         "970.0",
         "17.5",
         "b'No'",
         "86",
         "-70.2",
         "b'Jan'",
         "b'Nov'",
         "8",
         "5",
         "b'GPS'",
         "b'No'",
         "484",
         "b'Medium'",
         "b'Good'",
         "b'Yes'",
         "b'Lost Signal'",
         "b'Researcher_C'",
         "24.4",
         "b'Successful'",
         "b'No'",
         "15",
         "68",
         "b'Low'"
        ],
        [
         "4",
         "b'B1004'",
         "b'Crane'",
         "b'Europe'",
         "b'Urban'",
         "b'Windy'",
         "b'Avoid Predators'",
         "-21.611614380025586",
         "106.67482429343966",
         "11.681051201013176",
         "-115.02286310465428",
         "3077.38",
         "56.9",
         "53.92",
         "7921",
         "676",
         "13.5",
         "31.7",
         "64",
         "972.2",
         "14.2",
         "b'No'",
         "47",
         "-50.5",
         "b'Oct'",
         "b'Oct'",
         "11",
         "3",
         "b'GPS'",
         "b'No'",
         "184",
         "b'Low'",
         "b'Good'",
         "b'No'",
         null,
         "b'Researcher_B'",
         "25.8",
         "b'Failed'",
         "b'Yes'",
         "73",
         "67",
         "b'Moderate'"
        ]
       ],
       "shape": {
        "columns": 41,
        "rows": 5
       }
      },
      "text/html": [
       "<div>\n",
       "<style scoped>\n",
       "    .dataframe tbody tr th:only-of-type {\n",
       "        vertical-align: middle;\n",
       "    }\n",
       "\n",
       "    .dataframe tbody tr th {\n",
       "        vertical-align: top;\n",
       "    }\n",
       "\n",
       "    .dataframe thead th {\n",
       "        text-align: right;\n",
       "    }\n",
       "</style>\n",
       "<table border=\"1\" class=\"dataframe\">\n",
       "  <thead>\n",
       "    <tr style=\"text-align: right;\">\n",
       "      <th></th>\n",
       "      <th>bird_migration_data/Bird_ID</th>\n",
       "      <th>bird_migration_data/Species</th>\n",
       "      <th>bird_migration_data/Region</th>\n",
       "      <th>bird_migration_data/Habitat</th>\n",
       "      <th>bird_migration_data/Weather_Condition</th>\n",
       "      <th>bird_migration_data/Migration_Reason</th>\n",
       "      <th>bird_migration_data/Start_Latitude</th>\n",
       "      <th>bird_migration_data/Start_Longitude</th>\n",
       "      <th>bird_migration_data/End_Latitude</th>\n",
       "      <th>bird_migration_data/End_Longitude</th>\n",
       "      <th>...</th>\n",
       "      <th>bird_migration_data/Tracking_Quality</th>\n",
       "      <th>bird_migration_data/Migration_Interrupted</th>\n",
       "      <th>bird_migration_data/Interrupted_Reason</th>\n",
       "      <th>bird_migration_data/Tagged_By</th>\n",
       "      <th>bird_migration_data/Tag_Weight_g</th>\n",
       "      <th>bird_migration_data/Migration_Success</th>\n",
       "      <th>bird_migration_data/Recovery_Location_Known</th>\n",
       "      <th>bird_migration_data/Recovery_Time_days</th>\n",
       "      <th>bird_migration_data/Observation_Counts</th>\n",
       "      <th>bird_migration_data/Observation_Quality</th>\n",
       "    </tr>\n",
       "  </thead>\n",
       "  <tbody>\n",
       "    <tr>\n",
       "      <th>0</th>\n",
       "      <td>b'B1000'</td>\n",
       "      <td>b'Warbler'</td>\n",
       "      <td>b'South America'</td>\n",
       "      <td>b'Grassland'</td>\n",
       "      <td>b'Stormy'</td>\n",
       "      <td>b'Feeding'</td>\n",
       "      <td>11.906566</td>\n",
       "      <td>-169.378251</td>\n",
       "      <td>30.377647</td>\n",
       "      <td>-21.366879</td>\n",
       "      <td>...</td>\n",
       "      <td>b'Excellent'</td>\n",
       "      <td>b'Yes'</td>\n",
       "      <td>b'Storm'</td>\n",
       "      <td>b'Researcher_A'</td>\n",
       "      <td>27.0</td>\n",
       "      <td>b'Failed'</td>\n",
       "      <td>b'No'</td>\n",
       "      <td>102</td>\n",
       "      <td>56</td>\n",
       "      <td>b'Low'</td>\n",
       "    </tr>\n",
       "    <tr>\n",
       "      <th>1</th>\n",
       "      <td>b'B1001'</td>\n",
       "      <td>b'Stork'</td>\n",
       "      <td>b'North America'</td>\n",
       "      <td>b'Grassland'</td>\n",
       "      <td>b'Stormy'</td>\n",
       "      <td>b'Breeding'</td>\n",
       "      <td>62.301546</td>\n",
       "      <td>-111.475069</td>\n",
       "      <td>39.921092</td>\n",
       "      <td>47.963436</td>\n",
       "      <td>...</td>\n",
       "      <td>b'Good'</td>\n",
       "      <td>b'Yes'</td>\n",
       "      <td>b'Injury'</td>\n",
       "      <td>b'Researcher_C'</td>\n",
       "      <td>14.2</td>\n",
       "      <td>b'Successful'</td>\n",
       "      <td>b'Yes'</td>\n",
       "      <td>118</td>\n",
       "      <td>61</td>\n",
       "      <td>b'Low'</td>\n",
       "    </tr>\n",
       "    <tr>\n",
       "      <th>2</th>\n",
       "      <td>b'B1002'</td>\n",
       "      <td>b'Hawk'</td>\n",
       "      <td>b'South America'</td>\n",
       "      <td>b'Mountain'</td>\n",
       "      <td>b'Stormy'</td>\n",
       "      <td>b'Avoid Predators'</td>\n",
       "      <td>87.861164</td>\n",
       "      <td>-78.727327</td>\n",
       "      <td>66.990980</td>\n",
       "      <td>19.448466</td>\n",
       "      <td>...</td>\n",
       "      <td>b'Fair'</td>\n",
       "      <td>b'No'</td>\n",
       "      <td>b'Lost Signal'</td>\n",
       "      <td>b'Researcher_B'</td>\n",
       "      <td>16.1</td>\n",
       "      <td>b'Failed'</td>\n",
       "      <td>b'No'</td>\n",
       "      <td>41</td>\n",
       "      <td>71</td>\n",
       "      <td>b'High'</td>\n",
       "    </tr>\n",
       "    <tr>\n",
       "      <th>3</th>\n",
       "      <td>b'B1003'</td>\n",
       "      <td>b'Warbler'</td>\n",
       "      <td>b'South America'</td>\n",
       "      <td>b'Urban'</td>\n",
       "      <td>b'Stormy'</td>\n",
       "      <td>b'Climate Change'</td>\n",
       "      <td>35.770590</td>\n",
       "      <td>153.104341</td>\n",
       "      <td>-49.003145</td>\n",
       "      <td>-157.868744</td>\n",
       "      <td>...</td>\n",
       "      <td>b'Good'</td>\n",
       "      <td>b'Yes'</td>\n",
       "      <td>b'Lost Signal'</td>\n",
       "      <td>b'Researcher_C'</td>\n",
       "      <td>24.4</td>\n",
       "      <td>b'Successful'</td>\n",
       "      <td>b'No'</td>\n",
       "      <td>15</td>\n",
       "      <td>68</td>\n",
       "      <td>b'Low'</td>\n",
       "    </tr>\n",
       "    <tr>\n",
       "      <th>4</th>\n",
       "      <td>b'B1004'</td>\n",
       "      <td>b'Crane'</td>\n",
       "      <td>b'Europe'</td>\n",
       "      <td>b'Urban'</td>\n",
       "      <td>b'Windy'</td>\n",
       "      <td>b'Avoid Predators'</td>\n",
       "      <td>-21.611614</td>\n",
       "      <td>106.674824</td>\n",
       "      <td>11.681051</td>\n",
       "      <td>-115.022863</td>\n",
       "      <td>...</td>\n",
       "      <td>b'Good'</td>\n",
       "      <td>b'No'</td>\n",
       "      <td>None</td>\n",
       "      <td>b'Researcher_B'</td>\n",
       "      <td>25.8</td>\n",
       "      <td>b'Failed'</td>\n",
       "      <td>b'Yes'</td>\n",
       "      <td>73</td>\n",
       "      <td>67</td>\n",
       "      <td>b'Moderate'</td>\n",
       "    </tr>\n",
       "  </tbody>\n",
       "</table>\n",
       "<p>5 rows × 41 columns</p>\n",
       "</div>"
      ],
      "text/plain": [
       "  bird_migration_data/Bird_ID bird_migration_data/Species  \\\n",
       "0                    b'B1000'                  b'Warbler'   \n",
       "1                    b'B1001'                    b'Stork'   \n",
       "2                    b'B1002'                     b'Hawk'   \n",
       "3                    b'B1003'                  b'Warbler'   \n",
       "4                    b'B1004'                    b'Crane'   \n",
       "\n",
       "  bird_migration_data/Region bird_migration_data/Habitat  \\\n",
       "0           b'South America'                b'Grassland'   \n",
       "1           b'North America'                b'Grassland'   \n",
       "2           b'South America'                 b'Mountain'   \n",
       "3           b'South America'                    b'Urban'   \n",
       "4                  b'Europe'                    b'Urban'   \n",
       "\n",
       "  bird_migration_data/Weather_Condition bird_migration_data/Migration_Reason  \\\n",
       "0                             b'Stormy'                           b'Feeding'   \n",
       "1                             b'Stormy'                          b'Breeding'   \n",
       "2                             b'Stormy'                   b'Avoid Predators'   \n",
       "3                             b'Stormy'                    b'Climate Change'   \n",
       "4                              b'Windy'                   b'Avoid Predators'   \n",
       "\n",
       "   bird_migration_data/Start_Latitude  bird_migration_data/Start_Longitude  \\\n",
       "0                           11.906566                          -169.378251   \n",
       "1                           62.301546                          -111.475069   \n",
       "2                           87.861164                           -78.727327   \n",
       "3                           35.770590                           153.104341   \n",
       "4                          -21.611614                           106.674824   \n",
       "\n",
       "   bird_migration_data/End_Latitude  bird_migration_data/End_Longitude  ...  \\\n",
       "0                         30.377647                         -21.366879  ...   \n",
       "1                         39.921092                          47.963436  ...   \n",
       "2                         66.990980                          19.448466  ...   \n",
       "3                        -49.003145                        -157.868744  ...   \n",
       "4                         11.681051                        -115.022863  ...   \n",
       "\n",
       "   bird_migration_data/Tracking_Quality  \\\n",
       "0                          b'Excellent'   \n",
       "1                               b'Good'   \n",
       "2                               b'Fair'   \n",
       "3                               b'Good'   \n",
       "4                               b'Good'   \n",
       "\n",
       "   bird_migration_data/Migration_Interrupted  \\\n",
       "0                                     b'Yes'   \n",
       "1                                     b'Yes'   \n",
       "2                                      b'No'   \n",
       "3                                     b'Yes'   \n",
       "4                                      b'No'   \n",
       "\n",
       "   bird_migration_data/Interrupted_Reason  bird_migration_data/Tagged_By  \\\n",
       "0                                b'Storm'                b'Researcher_A'   \n",
       "1                               b'Injury'                b'Researcher_C'   \n",
       "2                          b'Lost Signal'                b'Researcher_B'   \n",
       "3                          b'Lost Signal'                b'Researcher_C'   \n",
       "4                                    None                b'Researcher_B'   \n",
       "\n",
       "   bird_migration_data/Tag_Weight_g  bird_migration_data/Migration_Success  \\\n",
       "0                              27.0                              b'Failed'   \n",
       "1                              14.2                          b'Successful'   \n",
       "2                              16.1                              b'Failed'   \n",
       "3                              24.4                          b'Successful'   \n",
       "4                              25.8                              b'Failed'   \n",
       "\n",
       "   bird_migration_data/Recovery_Location_Known  \\\n",
       "0                                        b'No'   \n",
       "1                                       b'Yes'   \n",
       "2                                        b'No'   \n",
       "3                                        b'No'   \n",
       "4                                       b'Yes'   \n",
       "\n",
       "   bird_migration_data/Recovery_Time_days  \\\n",
       "0                                     102   \n",
       "1                                     118   \n",
       "2                                      41   \n",
       "3                                      15   \n",
       "4                                      73   \n",
       "\n",
       "   bird_migration_data/Observation_Counts  \\\n",
       "0                                      56   \n",
       "1                                      61   \n",
       "2                                      71   \n",
       "3                                      68   \n",
       "4                                      67   \n",
       "\n",
       "   bird_migration_data/Observation_Quality  \n",
       "0                                   b'Low'  \n",
       "1                                   b'Low'  \n",
       "2                                  b'High'  \n",
       "3                                   b'Low'  \n",
       "4                              b'Moderate'  \n",
       "\n",
       "[5 rows x 41 columns]"
      ]
     },
     "execution_count": 7,
     "metadata": {},
     "output_type": "execute_result"
    }
   ],
   "source": [
    "dataset = Dataset(jsonld=\"https://web.s3.wisc.edu/pelican-data-loader/metadata/bird_migration_data.json\")\n",
    "records = dataset.records(\"bird_migration_data_record_set\")\n",
    "pd.DataFrame(list(itertools.islice(records, 100))).head(5)\n"
   ]
  }
 ],
 "metadata": {
  "kernelspec": {
   "display_name": "pelican-data-loader",
   "language": "python",
   "name": "python3"
  },
  "language_info": {
   "codemirror_mode": {
    "name": "ipython",
    "version": 3
   },
   "file_extension": ".py",
   "mimetype": "text/x-python",
   "name": "python",
   "nbconvert_exporter": "python",
   "pygments_lexer": "ipython3",
   "version": "3.12.3"
  }
 },
 "nbformat": 4,
 "nbformat_minor": 5
}
