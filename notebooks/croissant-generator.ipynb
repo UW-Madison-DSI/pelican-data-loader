{
 "cells": [
  {
   "cell_type": "markdown",
   "id": "6db810e9",
   "metadata": {},
   "source": [
    "## Try to use mlcroissant package to generate metadata\n",
    "\n",
    "- Already uploaded csv file to https://minio.services.dsi.wisc.edu/pelican-dev/bird_migration_data.csv"
   ]
  },
  {
   "cell_type": "code",
   "execution_count": 1,
   "id": "43980e8b",
   "metadata": {},
   "outputs": [],
   "source": [
    "import os\n",
    "\n",
    "os.chdir(\"..\")"
   ]
  },
  {
   "cell_type": "code",
   "execution_count": 2,
   "id": "10c33872",
   "metadata": {},
   "outputs": [],
   "source": [
    "from pathlib import Path\n",
    "import json\n",
    "\n",
    "import pandas as pd\n",
    "import mlcroissant as mlc\n",
    "\n",
    "from pelican_data_loader.utils import get_sha256, parse_col"
   ]
  },
  {
   "cell_type": "code",
   "execution_count": 3,
   "id": "5dda5931",
   "metadata": {},
   "outputs": [],
   "source": [
    "csv_file = Path(\"data/bird_migration_data.csv\")\n",
    "df = pd.read_csv(csv_file)\n",
    "\n",
    "DEV_S3_ID = \"dsi-dev-s3\"\n",
    "DEV_S3_URL = \"https://minio.services.dsi.wisc.edu/pelican-dev\""
   ]
  },
  {
   "cell_type": "code",
   "execution_count": 4,
   "id": "be7bb264",
   "metadata": {},
   "outputs": [],
   "source": [
    "# S3 bucket\n",
    "\n",
    "mlc_s3 = mlc.FileObject(\n",
    "    id=DEV_S3_ID,\n",
    "    name=DEV_S3_ID,\n",
    "    description=\"DSI development S3 bucket\",\n",
    "    content_url=DEV_S3_URL,\n",
    "    encoding_formats=[\"https\"],  # https is the protocol used for S3\n",
    "    sha256=\"main\",  # sha256 not available for S3\n",
    ")\n",
    "\n",
    "# CSV file within the S3 bucket\n",
    "\n",
    "mlc_file_object = mlc.FileObject(\n",
    "    id=\"csv\",\n",
    "    name=\"csv\",\n",
    "    description=\"Bird migration data\",\n",
    "    contained_in=[DEV_S3_ID],\n",
    "    sha256=get_sha256(csv_file),\n",
    "    encoding_formats=[mlc.EncodingFormat.CSV],\n",
    "    content_url=f\"{DEV_S3_URL}/{csv_file.name}\",\n",
    ")\n",
    "\n",
    "mlc_distribution = [mlc_s3, mlc_file_object]"
   ]
  },
  {
   "cell_type": "code",
   "execution_count": 5,
   "id": "fef8b7ee",
   "metadata": {},
   "outputs": [],
   "source": [
    "mlc_record_sets = [\n",
    "    mlc.RecordSet(\n",
    "        id=\"bird_migration_data\",\n",
    "        name=\"Bird migration data\",\n",
    "        fields=[parse_col(df[col]) for col in df.columns],\n",
    "    )\n",
    "]"
   ]
  },
  {
   "cell_type": "code",
   "execution_count": 6,
   "id": "77f51bfd",
   "metadata": {},
   "outputs": [],
   "source": [
    "# Compose Croissant Metadata\n",
    "metadata = mlc.Metadata(\n",
    "    name=\"Bird Migration Data\",\n",
    "    description=\"Bird migration data\",\n",
    "    version=\"0.0.1\",\n",
    "    distribution=mlc_distribution,  # type: ignore\n",
    "    record_sets=mlc_record_sets,\n",
    "    cite_as=\"PLACE_HOLDER_CITE_AS\",\n",
    "    license=\"https://choosealicense.com/licenses/mit/\",  # type: ignore\n",
    "    # date_published=\"2025-05-13\",  # mlcroissant has a bug with date_published\n",
    ")"
   ]
  },
  {
   "cell_type": "code",
   "execution_count": 7,
   "id": "f665d79d",
   "metadata": {},
   "outputs": [
    {
     "name": "stderr",
     "output_type": "stream",
     "text": [
      "WARNING:absl:Found the following 1 warning(s) during the validation:\n",
      "  -  [Metadata(Bird Migration Data)] Property \"https://schema.org/datePublished\" is recommended, but does not exist.\n"
     ]
    }
   ],
   "source": [
    "# Validate metadata\n",
    "dataset = mlc.Dataset(jsonld=metadata.to_json())\n",
    "dataset.jsonld[\"datePublished\"] = \"2025-05-13\"  # type: ignore\n"
   ]
  },
  {
   "cell_type": "code",
   "execution_count": 8,
   "id": "2ab488c0",
   "metadata": {},
   "outputs": [
    {
     "data": {
      "text/plain": [
       "16545"
      ]
     },
     "execution_count": 8,
     "metadata": {},
     "output_type": "execute_result"
    }
   ],
   "source": [
    "# Export to JSON-LD\n",
    "jsonld_file = Path(\"data/bird_migration_metadata.json\")\n",
    "jsonld_file.write_text(json.dumps(dataset.jsonld, indent=2))"
   ]
  },
  {
   "cell_type": "code",
   "execution_count": 9,
   "id": "4637f799",
   "metadata": {},
   "outputs": [
    {
     "data": {
      "text/plain": [
       "''"
      ]
     },
     "execution_count": 9,
     "metadata": {},
     "output_type": "execute_result"
    }
   ],
   "source": [
    "# Load JSON-LD from file\n",
    "dataset = mlc.Dataset(jsonld=json.loads(jsonld_file.read_text()))\n",
    "\n",
    "# Re-validate metadata\n",
    "dataset.metadata.issues.report()"
   ]
  },
  {
   "cell_type": "markdown",
   "id": "19f544bd",
   "metadata": {},
   "source": [
    "- `mlcroissant` is still not production ready, many typing issues and missing date types... be extra cautious"
   ]
  }
 ],
 "metadata": {
  "kernelspec": {
   "display_name": ".venv",
   "language": "python",
   "name": "python3"
  },
  "language_info": {
   "codemirror_mode": {
    "name": "ipython",
    "version": 3
   },
   "file_extension": ".py",
   "mimetype": "text/x-python",
   "name": "python",
   "nbconvert_exporter": "python",
   "pygments_lexer": "ipython3",
   "version": "3.12.3"
  }
 },
 "nbformat": 4,
 "nbformat_minor": 5
}
