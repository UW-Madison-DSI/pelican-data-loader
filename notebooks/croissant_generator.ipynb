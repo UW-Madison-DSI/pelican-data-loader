{
 "cells": [
  {
   "cell_type": "markdown",
   "id": "6db810e9",
   "metadata": {},
   "source": [
    "## Try to use mlcroissant package to generate metadata\n",
    "\n",
    "- Test file csv file located at: https://web.s3.wisc.edu/pelican-data-loader/data/bird_migration_data.csv"
   ]
  },
  {
   "cell_type": "code",
   "execution_count": 1,
   "id": "43980e8b",
   "metadata": {},
   "outputs": [],
   "source": [
    "import os\n",
    "\n",
    "os.chdir(\"..\")"
   ]
  },
  {
   "cell_type": "code",
   "execution_count": 2,
   "id": "10c33872",
   "metadata": {},
   "outputs": [
    {
     "data": {
      "text/plain": [
       "True"
      ]
     },
     "execution_count": 2,
     "metadata": {},
     "output_type": "execute_result"
    }
   ],
   "source": [
    "from pathlib import Path\n",
    "from datetime import datetime\n",
    "import json\n",
    "\n",
    "from dotenv import load_dotenv\n",
    "import pandas as pd\n",
    "import mlcroissant as mlc\n",
    "from pelican_data_loader.utils import get_sha256, parse_col\n",
    "\n",
    "load_dotenv()"
   ]
  },
  {
   "cell_type": "code",
   "execution_count": 3,
   "id": "5dda5931",
   "metadata": {},
   "outputs": [],
   "source": [
    "csv_file = Path(\"data/bird_migration_data.csv\")\n",
    "df = pd.read_csv(csv_file)\n",
    "\n",
    "DEV_S3_URL = f\"https://{os.getenv('S3_ENDPOINT_URL')}/{os.getenv('S3_BUCKET_NAME')}\""
   ]
  },
  {
   "cell_type": "code",
   "execution_count": 4,
   "id": "be7bb264",
   "metadata": {},
   "outputs": [],
   "source": [
    "# In order to properly reference the dataset hosted on s3, we need to create a FileObject for the S3 bucket and another FileObject for the CSV file within that bucket. Not exactly intuitive to me, but this is how mlcroissant works. Example: https://github.com/mlcommons/croissant/blob/main/datasets/1.0/fashion-mnist/metadata.json\n",
    "\n",
    "\n",
    "# S3 bucket\n",
    "\n",
    "mlc_s3 = mlc.FileObject(\n",
    "    id=\"dsi_s3_bucket\",\n",
    "    name=\"DSI Development S3 Bucket\",\n",
    "    description=\"DSI development S3 bucket\",\n",
    "    content_url=DEV_S3_URL,\n",
    "    encoding_formats=[\"https\"],  # https is the protocol used for S3\n",
    "    sha256=\"main\",  # sha256 not available for S3\n",
    ")\n",
    "\n",
    "# CSV file within the S3 bucket\n",
    "\n",
    "mlc_file_object = mlc.FileObject(\n",
    "    id=\"csv\",\n",
    "    name=\"Bird migration data\",\n",
    "    # description=\"Bird migration data\",\n",
    "    contained_in=[mlc_s3.id],\n",
    "    sha256=get_sha256(csv_file),\n",
    "    encoding_formats=[mlc.EncodingFormat.CSV],\n",
    "    content_url=f\"{DEV_S3_URL}/{csv_file.name}\",\n",
    ")\n",
    "\n",
    "mlc_distribution = [mlc_s3, mlc_file_object]"
   ]
  },
  {
   "cell_type": "code",
   "execution_count": 5,
   "id": "fef8b7ee",
   "metadata": {},
   "outputs": [],
   "source": [
    "# Here we generate the metadata such as dtype in each column of the DataFrame.\n",
    "# The `parse_col` function is used to convert each column into a Field object.\n",
    "\n",
    "mlc_record_sets = [\n",
    "    mlc.RecordSet(\n",
    "        id=\"bird_migration_data_record_set\",\n",
    "        name=\"Bird migration data\",\n",
    "        fields=[parse_col(df[col], parent_id=mlc_file_object.id) for col in df.columns],\n",
    "    )\n",
    "]"
   ]
  },
  {
   "cell_type": "code",
   "execution_count": 8,
   "id": "c2c4e16b",
   "metadata": {},
   "outputs": [],
   "source": [
    "# Add author information\n",
    "\n",
    "creators = [mlc.Person(name=\"Jason Testing Lo\", email=\"jason.lo@wisc.edu\")]"
   ]
  },
  {
   "cell_type": "code",
   "execution_count": 9,
   "id": "77f51bfd",
   "metadata": {},
   "outputs": [],
   "source": [
    "# Compose Croissant Metadata\n",
    "\n",
    "metadata = mlc.Metadata(\n",
    "    name=\"Bird Migration Data\",\n",
    "    description=\"Bird migration data\",\n",
    "    version=\"0.0.1\",\n",
    "    distribution=mlc_distribution,  # type: ignore\n",
    "    record_sets=mlc_record_sets,\n",
    "    cite_as=\"PLACE_HOLDER_CITE_AS\",\n",
    "    license=[\"https://choosealicense.com/licenses/mit/\"],\n",
    "    date_published=datetime.now(),\n",
    "    creators=creators,  # type: ignore\n",
    "    keywords=[\"bird\", \"testing\"],\n",
    ")"
   ]
  },
  {
   "cell_type": "code",
   "execution_count": 10,
   "id": "8dbb0027",
   "metadata": {},
   "outputs": [
    {
     "name": "stdout",
     "output_type": "stream",
     "text": [
      "2025-07-01 13:10:10.578923\n"
     ]
    }
   ],
   "source": [
    "jsonld = metadata.to_json()\n",
    "print(jsonld[\"datePublished\"])\n",
    "# We have a datetime datatype bug in mlcroissant, so we patch the date_published field manually\n",
    "jsonld[\"datePublished\"] = datetime.now().strftime(\"%Y-%m-%d\")\n",
    "dataset = mlc.Dataset(jsonld=jsonld)\n"
   ]
  },
  {
   "cell_type": "code",
   "execution_count": 11,
   "id": "2ab488c0",
   "metadata": {},
   "outputs": [
    {
     "data": {
      "text/plain": [
       "16699"
      ]
     },
     "execution_count": 11,
     "metadata": {},
     "output_type": "execute_result"
    }
   ],
   "source": [
    "# Export to JSON-LD\n",
    "jsonld_file = Path(\"data/bird_migration_metadata.json\")\n",
    "jsonld_file.write_text(json.dumps(dataset.jsonld, indent=2))"
   ]
  },
  {
   "cell_type": "code",
   "execution_count": 4,
   "id": "4637f799",
   "metadata": {},
   "outputs": [
    {
     "data": {
      "text/plain": [
       "''"
      ]
     },
     "execution_count": 4,
     "metadata": {},
     "output_type": "execute_result"
    }
   ],
   "source": [
    "# Load JSON-LD from file\n",
    "jsonld_file = Path(\"data/bird_migration_metadata.json\")\n",
    "\n",
    "dataset = mlc.Dataset(jsonld=json.loads(jsonld_file.read_text()))\n",
    "\n",
    "# Re-validate metadata\n",
    "dataset.metadata.issues.report()"
   ]
  },
  {
   "cell_type": "code",
   "execution_count": null,
   "id": "73002add",
   "metadata": {},
   "outputs": [],
   "source": [
    "def get_primary_url(jsonld: dict, extension_priority: list[str] | None = None) -> str:\n",
    "    \"\"\"Guess the primary source URL from the JSON-LD document by getting all contentUrls and returning the one with supported file extensions.\"\"\"\n",
    "\n",
    "    if extension_priority is None:\n",
    "        extension_priority = [\".csv\", \".parquet\"]\n",
    "\n",
    "    distributions = jsonld.get(\"distribution\", [])\n",
    "    if not distributions:\n",
    "        return \"\"\n",
    "\n",
    "    urls = [dist.get(\"contentUrl\", \"\") for dist in distributions if isinstance(dist, dict)]\n",
    "    if not urls:\n",
    "        return \"\"\n",
    "\n",
    "    # Return by priority of file extensions\n",
    "    urls = [url for url in urls if url.endswith(tuple(extension_priority))]\n",
    "    if urls:\n",
    "        return urls[0]\n",
    "    return \"\""
   ]
  },
  {
   "cell_type": "code",
   "execution_count": 10,
   "id": "99f9fc6d",
   "metadata": {},
   "outputs": [
    {
     "data": {
      "text/plain": [
       "'https://web.s3.wisc.edu/pelican-data-loader/bird_migration_data.csv'"
      ]
     },
     "execution_count": 10,
     "metadata": {},
     "output_type": "execute_result"
    }
   ],
   "source": [
    "get_primary_url(dataset.jsonld)"
   ]
  },
  {
   "cell_type": "code",
   "execution_count": null,
   "id": "75d7177e",
   "metadata": {},
   "outputs": [],
   "source": [
    "def sort_distribution_extension(distributions: dict, extension_priority: list[str] | None = None) -> list[dict]:\n",
    "    \"\"\"Sort the distribution list in a JSON-LD document by file extension priority.\"\"\"\n",
    "\n",
    "    if not extension_priority:\n",
    "        extension_priority = [\".csv\", \".parquet\"]\n",
    "\n",
    "    priority = {ext: rank for rank, ext in enumerate(extension_priority)}\n",
    "\n",
    "    def get_priority(item):\n",
    "        url = item.get(\"contentUrl\", \"\")\n",
    "        for ext, rank in priority.items():\n",
    "            if url.endswith(ext):\n",
    "                return rank\n",
    "        return max(priority.values()) + 1  # Default to a high rank if no extension matches\n",
    "\n",
    "    return sorted(distributions, key=get_priority)"
   ]
  },
  {
   "cell_type": "code",
   "execution_count": 19,
   "id": "2f867c79",
   "metadata": {},
   "outputs": [
    {
     "data": {
      "text/plain": [
       "[{'@type': 'cr:FileObject',\n",
       "  '@id': 'dsi_s3_bucket',\n",
       "  'name': 'DSI Development S3 Bucket',\n",
       "  'description': 'DSI development S3 bucket',\n",
       "  'contentUrl': 'https://web.s3.wisc.edu/pelican-data-loader',\n",
       "  'encodingFormat': 'https',\n",
       "  'sha256': 'main'},\n",
       " {'@type': 'cr:FileObject',\n",
       "  '@id': 'csv',\n",
       "  'name': 'Bird migration data',\n",
       "  'containedIn': {'@id': 'dsi_s3_bucket'},\n",
       "  'contentUrl': 'https://web.s3.wisc.edu/pelican-data-loader/bird_migration_data.csv',\n",
       "  'encodingFormat': 'text/csv',\n",
       "  'sha256': '85da618b044d8220b5a8c3c7030ff3f35f791e875736ed43115415750a824fbf'}]"
      ]
     },
     "execution_count": 19,
     "metadata": {},
     "output_type": "execute_result"
    }
   ],
   "source": [
    "sort_distribution_extension(dataset.jsonld.get(\"distribution\", []), extension_priority=[\"loader\", \".parquet\"])"
   ]
  },
  {
   "cell_type": "code",
   "execution_count": null,
   "id": "d191bff6",
   "metadata": {},
   "outputs": [
    {
     "data": {
      "text/plain": [
       "[{'@type': 'cr:FileObject',\n",
       "  '@id': 'dsi_s3_bucket',\n",
       "  'name': 'DSI Development S3 Bucket',\n",
       "  'description': 'DSI development S3 bucket',\n",
       "  'contentUrl': 'https://web.s3.wisc.edu/pelican-data-loader',\n",
       "  'encodingFormat': 'https',\n",
       "  'sha256': 'main'},\n",
       " {'@type': 'cr:FileObject',\n",
       "  '@id': 'csv',\n",
       "  'name': 'Bird migration data',\n",
       "  'containedIn': {'@id': 'dsi_s3_bucket'},\n",
       "  'contentUrl': 'https://web.s3.wisc.edu/pelican-data-loader/bird_migration_data.csv',\n",
       "  'encodingFormat': 'text/csv',\n",
       "  'sha256': '85da618b044d8220b5a8c3c7030ff3f35f791e875736ed43115415750a824fbf'}]"
      ]
     },
     "execution_count": 16,
     "metadata": {},
     "output_type": "execute_result"
    }
   ],
   "source": [
    "dataset.jsonld[\"distribution\"]"
   ]
  },
  {
   "cell_type": "markdown",
   "id": "19f544bd",
   "metadata": {},
   "source": [
    "- `mlcroissant` is still not production ready, many typing issues and missing date types... be extra cautious"
   ]
  }
 ],
 "metadata": {
  "kernelspec": {
   "display_name": ".venv",
   "language": "python",
   "name": "python3"
  },
  "language_info": {
   "codemirror_mode": {
    "name": "ipython",
    "version": 3
   },
   "file_extension": ".py",
   "mimetype": "text/x-python",
   "name": "python",
   "nbconvert_exporter": "python",
   "pygments_lexer": "ipython3",
   "version": "3.12.3"
  }
 },
 "nbformat": 4,
 "nbformat_minor": 5
}
