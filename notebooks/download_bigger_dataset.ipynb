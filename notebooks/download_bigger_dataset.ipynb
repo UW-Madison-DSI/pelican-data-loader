{
 "cells": [
  {
   "cell_type": "code",
   "execution_count": null,
   "id": "487e8e04",
   "metadata": {},
   "outputs": [],
   "source": [
    "from pathlib import Path\n",
    "\n",
    "from datasets import load_dataset\n",
    "from dotenv import load_dotenv\n",
    "from tqdm import tqdm\n",
    "\n",
    "from pelican_data_loader.config import SYSTEM_CONFIG\n",
    "from pelican_data_loader.data import get_default_s3_client\n",
    "\n",
    "load_dotenv()"
   ]
  },
  {
   "cell_type": "code",
   "execution_count": null,
   "id": "024746f5",
   "metadata": {},
   "outputs": [],
   "source": [
    "# This is how we access data via huggingface's dataset repo\n",
    "dataset_hf = load_dataset(\"bigcode/the-stack-dedup\", streaming=True)\n",
    "dataset_hf"
   ]
  },
  {
   "cell_type": "code",
   "execution_count": null,
   "id": "5ca31629",
   "metadata": {},
   "outputs": [],
   "source": [
    "# Pull without streaming\n",
    "dataset_hf = load_dataset(\"bigcode/the-stack-dedup\")\n",
    "dataset_hf"
   ]
  },
  {
   "cell_type": "markdown",
   "id": "0e27f554",
   "metadata": {},
   "source": [
    "### Upload to S3 (Slow, don't use it for large files)"
   ]
  },
  {
   "cell_type": "code",
   "execution_count": null,
   "id": "e33bdea9",
   "metadata": {},
   "outputs": [],
   "source": [
    "# DATASET_DIR = Path(\"/home/clo36/hf/hub/datasets--bigcode--the-stack-dedup\")\n",
    "# s3_client = get_default_s3_client()\n",
    "\n",
    "# for f in tqdm(list(DATASET_DIR.rglob(\"*\"))):\n",
    "#     if f.is_file():\n",
    "#         s3_key = f\"data/{str(f).lstrip('/home/clo36/hf/hub/')}\"\n",
    "\n",
    "#         # Skip if file already exists\n",
    "#         try:\n",
    "#             s3_client.stat_object(SYSTEM_CONFIG.s3_bucket_name, s3_key)\n",
    "#         except Exception:\n",
    "#             s3_client.fput_object(SYSTEM_CONFIG.s3_bucket_name, s3_key, f.as_posix())"
   ]
  },
  {
   "cell_type": "markdown",
   "id": "da5543eb",
   "metadata": {},
   "source": [
    "### Upload to research drive"
   ]
  },
  {
   "cell_type": "markdown",
   "id": "16a79bae",
   "metadata": {},
   "source": [
    "Run on windows with mapped R: drive, Not recommended, always disconnects.\n",
    "```sh\n",
    "scp -r clo36@bear-dev:/home/clo36/hf/hub/datasets--bigcode--the-stack-dedup \"R:/clo36/pelican-data-loader/data/datasets--bigcode--the-stack-dedup\"\n",
    "```\n",
    "\n",
    "Run on Linux with mapped `/mnt/research`, still somewhat prone to disconnection, resumable.\n",
    "```sh\n",
    "sudo rsync -av --no-times --progress --ignore-existing clo36@bear-dev:/home/clo36/hf/hub/datasets--bigcode--the-stack-dedup /mnt/research/clo36/pelican-data-loader/data/datasets--bigcode--the-stack-dedup/\n",
    "```\n"
   ]
  },
  {
   "cell_type": "markdown",
   "id": "cdd69419",
   "metadata": {},
   "source": [
    "### Upload to S3 (~10x faster ~= 1-2TB/hr vs. Python minio client)\n",
    "\n",
    "Run on Linux with `rclone`\n",
    "\n",
    "Pre-requisite: Config s3 in `rclone` ad `dsi-s3` data source\n",
    "```sh\n",
    "rclone config\n",
    "```\n",
    "\n",
    "Sync to s3\n",
    "\n",
    "```sh\n",
    "rclone sync ./datasets--bigcode--the-stack-dedup dsi-s3:pelican-data-loader/data/datasets--bigcode--the-stack-dedup \\\n",
    "    --copy-links \\\n",
    "    --progress \\\n",
    "    --transfers=8 \\\n",
    "    --checkers=16 \\\n",
    "    --multi-thread-streams=2 \\\n",
    "    --fast-list\n",
    "```"
   ]
  }
 ],
 "metadata": {
  "kernelspec": {
   "display_name": "pelican-data-loader",
   "language": "python",
   "name": "python3"
  },
  "language_info": {
   "codemirror_mode": {
    "name": "ipython",
    "version": 3
   },
   "file_extension": ".py",
   "mimetype": "text/x-python",
   "name": "python",
   "nbconvert_exporter": "python",
   "pygments_lexer": "ipython3",
   "version": "3.12.11"
  }
 },
 "nbformat": 4,
 "nbformat_minor": 5
}
