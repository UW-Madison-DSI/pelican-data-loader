{
 "cells": [
  {
   "cell_type": "code",
   "execution_count": null,
   "id": "487e8e04",
   "metadata": {},
   "outputs": [],
   "source": [
    "from datasets import load_dataset\n",
    "from dotenv import load_dotenv\n",
    "\n",
    "load_dotenv()"
   ]
  },
  {
   "cell_type": "code",
   "execution_count": null,
   "id": "024746f5",
   "metadata": {},
   "outputs": [],
   "source": [
    "# This is how we access data via huggingface's dataset repo\n",
    "dataset_hf = load_dataset(\"bigcode/the-stack-dedup\", streaming=True)\n",
    "dataset_hf"
   ]
  },
  {
   "cell_type": "code",
   "execution_count": null,
   "id": "5ca31629",
   "metadata": {},
   "outputs": [],
   "source": [
    "# Pull without streaming\n",
    "dataset_hf = load_dataset(\"bigcode/the-stack-dedup\")\n",
    "dataset_hf"
   ]
  },
  {
   "cell_type": "markdown",
   "id": "0e27f554",
   "metadata": {},
   "source": [
    "### Upload to S3"
   ]
  },
  {
   "cell_type": "code",
   "execution_count": null,
   "id": "e33bdea9",
   "metadata": {},
   "outputs": [],
   "source": [
    "from pathlib import Path\n",
    "\n",
    "from tqdm import tqdm\n",
    "\n",
    "from pelican_data_loader.config import SYSTEM_CONFIG\n",
    "from pelican_data_loader.data import get_default_s3_client, upload_to_s3"
   ]
  },
  {
   "cell_type": "code",
   "execution_count": null,
   "id": "16c56f01",
   "metadata": {},
   "outputs": [],
   "source": [
    "DATASET_DIR = Path(\"/home/clo36/hf/hub/datasets--bigcode--the-stack-dedup\")\n",
    "s3_client = get_default_s3_client()"
   ]
  },
  {
   "cell_type": "code",
   "execution_count": null,
   "id": "e1e32da3",
   "metadata": {},
   "outputs": [],
   "source": [
    "for f in tqdm(list(DATASET_DIR.rglob(\"*\"))):\n",
    "    if f.is_file():\n",
    "        prefix = \"data/the-stack-dedup\"\n",
    "\n",
    "        # Skip if file already exists\n",
    "        try:\n",
    "            s3_client.stat_object(SYSTEM_CONFIG.s3_bucket_name, f\"{prefix}/{f.name}\")\n",
    "        except Exception:\n",
    "            upload_to_s3(f, bucket_name=SYSTEM_CONFIG.s3_bucket_name, object_name=f\"{prefix}/{f.name}\", client=s3_client)"
   ]
  },
  {
   "cell_type": "markdown",
   "id": "da5543eb",
   "metadata": {},
   "source": [
    "### Upload to research drive"
   ]
  },
  {
   "cell_type": "markdown",
   "id": "16a79bae",
   "metadata": {},
   "source": [
    "Run on windows with mapped R: drive\n",
    "```sh\n",
    "scp -r clo36@bear-dev:/home/clo36/hf/hub/datasets--bigcode--the-stack-dedup \"R:/clo36/pelican-data-loader/data/datasets--bigcode--the-stack-dedup\"\n",
    "```"
   ]
  }
 ],
 "metadata": {
  "kernelspec": {
   "display_name": "pelican-data-loader",
   "language": "python",
   "name": "python3"
  },
  "language_info": {
   "codemirror_mode": {
    "name": "ipython",
    "version": 3
   },
   "file_extension": ".py",
   "mimetype": "text/x-python",
   "name": "python",
   "nbconvert_exporter": "python",
   "pygments_lexer": "ipython3",
   "version": "3.12.11"
  }
 },
 "nbformat": 4,
 "nbformat_minor": 5
}
