{
 "cells": [
  {
   "cell_type": "code",
   "execution_count": 1,
   "id": "bba6fb9a",
   "metadata": {},
   "outputs": [],
   "source": [
    "import os\n",
    "\n",
    "os.chdir(\"..\")"
   ]
  },
  {
   "cell_type": "code",
   "execution_count": null,
   "id": "06b523b9",
   "metadata": {},
   "outputs": [
    {
     "name": "stderr",
     "output_type": "stream",
     "text": [
      "/home/lcmjlo/pelican-data-loader/.venv/lib/python3.12/site-packages/tqdm/auto.py:21: TqdmWarning: IProgress not found. Please update jupyter and ipywidgets. See https://ipywidgets.readthedocs.io/en/stable/user_install.html\n",
      "  from .autonotebook import tqdm as notebook_tqdm\n"
     ]
    }
   ],
   "source": [
    "import fsspec\n",
    "\n",
    "from pelican_data_loader.config import SystemConfig\n",
    "from pelican_data_loader.db import DataRepoEngine"
   ]
  },
  {
   "cell_type": "code",
   "execution_count": 3,
   "id": "ab979894",
   "metadata": {},
   "outputs": [],
   "source": [
    "config = SystemConfig()\n",
    "db = DataRepoEngine()"
   ]
  },
  {
   "cell_type": "code",
   "execution_count": 4,
   "id": "54f30923",
   "metadata": {},
   "outputs": [],
   "source": [
    "# Dataset DB\n",
    "# TODO: Deduplicate perhaps and immutably store datasets\n",
    "\n",
    "all_datasets = db.list_datasets()"
   ]
  },
  {
   "cell_type": "code",
   "execution_count": 5,
   "id": "0417c96f",
   "metadata": {},
   "outputs": [
    {
     "data": {
      "text/plain": [
       "[{'Bird_ID': 'B1000',\n",
       "  'Species': 'Warbler',\n",
       "  'Region': 'South America',\n",
       "  'Habitat': 'Grassland',\n",
       "  'Weather_Condition': 'Stormy',\n",
       "  'Migration_Reason': 'Feeding',\n",
       "  'Start_Latitude': 11.906566441337574,\n",
       "  'Start_Longitude': -169.37825068830264,\n",
       "  'End_Latitude': 30.37764666430312,\n",
       "  'End_Longitude': -21.36687925839209,\n",
       "  'Flight_Distance_km': 1753.79,\n",
       "  'Flight_Duration_hours': 49.5,\n",
       "  'Average_Speed_kmph': 47.82,\n",
       "  'Max_Altitude_m': 5280,\n",
       "  'Min_Altitude_m': 285,\n",
       "  'Temperature_C': -2.2,\n",
       "  'Wind_Speed_kmph': 9.1,\n",
       "  'Humidity_pc': 43,\n",
       "  'Pressure_hPa': 1030.3,\n",
       "  'Visibility_km': 1.5,\n",
       "  'Nesting_Success': 'No',\n",
       "  'Tag_Battery_Level_pc': 45,\n",
       "  'Signal_Strength_dB': -64.9,\n",
       "  'Migration_Start_Month': 'Jan',\n",
       "  'Migration_End_Month': 'Apr',\n",
       "  'Rest_Stops': 3,\n",
       "  'Predator_Sightings': 6,\n",
       "  'Tag_Type': 'Radio',\n",
       "  'Migrated_in_Flock': 'Yes',\n",
       "  'Flock_Size': 264,\n",
       "  'Food_Supply_Level': 'Low',\n",
       "  'Tracking_Quality': 'Excellent',\n",
       "  'Migration_Interrupted': 'Yes',\n",
       "  'Interrupted_Reason': 'Storm',\n",
       "  'Tagged_By': 'Researcher_A',\n",
       "  'Tag_Weight_g': 27.0,\n",
       "  'Migration_Success': 'Failed',\n",
       "  'Recovery_Location_Known': 'No',\n",
       "  'Recovery_Time_days': 102,\n",
       "  'Observation_Counts': 56,\n",
       "  'Observation_Quality': 'Low'}]"
      ]
     },
     "execution_count": 5,
     "metadata": {},
     "output_type": "execute_result"
    }
   ],
   "source": [
    "# Load with huggingface datasets library via s3fs\n",
    "list(all_datasets[-1].pull()[\"train\"].take(1))"
   ]
  },
  {
   "cell_type": "code",
   "execution_count": 6,
   "id": "23fb0b5a",
   "metadata": {},
   "outputs": [
    {
     "name": "stdout",
     "output_type": "stream",
     "text": [
      "Listing contents of pelican-data-loader:\n",
      "['pelican-data-loader/README.md', 'pelican-data-loader/bird_migration_data.csv', 'pelican-data-loader/metadata']\n"
     ]
    }
   ],
   "source": [
    "# This is the raw `fsspec` interface to S3, just in case we need it...\n",
    "\n",
    "fs = fsspec.filesystem(\"s3\", **config.storage_options)\n",
    "print(f\"Listing contents of {config.s3_bucket_name}:\")\n",
    "print([item for item in fs.ls(config.s3_bucket_name)])\n"
   ]
  },
  {
   "cell_type": "markdown",
   "id": "fed47c6c",
   "metadata": {},
   "source": [
    "## UX\n",
    "\n",
    "Make a even simpler wrapper to load with `netid/data` index"
   ]
  },
  {
   "cell_type": "code",
   "execution_count": null,
   "id": "03fca7d0",
   "metadata": {},
   "outputs": [],
   "source": [
    "FAKE_INDEX = {\"clo36/bird\": \"https://web.s3.wisc.edu/pelican-data-loader/metadata/bird_migration_data.json\"}\n"
   ]
  },
  {
   "cell_type": "code",
   "execution_count": 8,
   "id": "bc8f3aa6",
   "metadata": {},
   "outputs": [],
   "source": [
    "from pelican_data_loader.api import load_uw_data"
   ]
  },
  {
   "cell_type": "code",
   "execution_count": 9,
   "id": "4e22ed92",
   "metadata": {},
   "outputs": [
    {
     "data": {
      "text/plain": [
       "[{'Bird_ID': 'B1000',\n",
       "  'Species': 'Warbler',\n",
       "  'Region': 'South America',\n",
       "  'Habitat': 'Grassland',\n",
       "  'Weather_Condition': 'Stormy',\n",
       "  'Migration_Reason': 'Feeding',\n",
       "  'Start_Latitude': 11.906566441337574,\n",
       "  'Start_Longitude': -169.37825068830264,\n",
       "  'End_Latitude': 30.37764666430312,\n",
       "  'End_Longitude': -21.36687925839209,\n",
       "  'Flight_Distance_km': 1753.79,\n",
       "  'Flight_Duration_hours': 49.5,\n",
       "  'Average_Speed_kmph': 47.82,\n",
       "  'Max_Altitude_m': 5280,\n",
       "  'Min_Altitude_m': 285,\n",
       "  'Temperature_C': -2.2,\n",
       "  'Wind_Speed_kmph': 9.1,\n",
       "  'Humidity_pc': 43,\n",
       "  'Pressure_hPa': 1030.3,\n",
       "  'Visibility_km': 1.5,\n",
       "  'Nesting_Success': 'No',\n",
       "  'Tag_Battery_Level_pc': 45,\n",
       "  'Signal_Strength_dB': -64.9,\n",
       "  'Migration_Start_Month': 'Jan',\n",
       "  'Migration_End_Month': 'Apr',\n",
       "  'Rest_Stops': 3,\n",
       "  'Predator_Sightings': 6,\n",
       "  'Tag_Type': 'Radio',\n",
       "  'Migrated_in_Flock': 'Yes',\n",
       "  'Flock_Size': 264,\n",
       "  'Food_Supply_Level': 'Low',\n",
       "  'Tracking_Quality': 'Excellent',\n",
       "  'Migration_Interrupted': 'Yes',\n",
       "  'Interrupted_Reason': 'Storm',\n",
       "  'Tagged_By': 'Researcher_A',\n",
       "  'Tag_Weight_g': 27.0,\n",
       "  'Migration_Success': 'Failed',\n",
       "  'Recovery_Location_Known': 'No',\n",
       "  'Recovery_Time_days': 102,\n",
       "  'Observation_Counts': 56,\n",
       "  'Observation_Quality': 'Low'}]"
      ]
     },
     "execution_count": 9,
     "metadata": {},
     "output_type": "execute_result"
    }
   ],
   "source": [
    "# Example usage with dataset key\n",
    "\n",
    "d = load_uw_data(\"clo36/bird\")\n",
    "list(d[\"train\"].take(1))\n"
   ]
  },
  {
   "cell_type": "code",
   "execution_count": 10,
   "id": "61dc015f",
   "metadata": {},
   "outputs": [
    {
     "data": {
      "text/plain": [
       "[{'Bird_ID': 'B1000',\n",
       "  'Species': 'Warbler',\n",
       "  'Region': 'South America',\n",
       "  'Habitat': 'Grassland',\n",
       "  'Weather_Condition': 'Stormy',\n",
       "  'Migration_Reason': 'Feeding',\n",
       "  'Start_Latitude': 11.906566441337574,\n",
       "  'Start_Longitude': -169.37825068830264,\n",
       "  'End_Latitude': 30.37764666430312,\n",
       "  'End_Longitude': -21.36687925839209,\n",
       "  'Flight_Distance_km': 1753.79,\n",
       "  'Flight_Duration_hours': 49.5,\n",
       "  'Average_Speed_kmph': 47.82,\n",
       "  'Max_Altitude_m': 5280,\n",
       "  'Min_Altitude_m': 285,\n",
       "  'Temperature_C': -2.2,\n",
       "  'Wind_Speed_kmph': 9.1,\n",
       "  'Humidity_pc': 43,\n",
       "  'Pressure_hPa': 1030.3,\n",
       "  'Visibility_km': 1.5,\n",
       "  'Nesting_Success': 'No',\n",
       "  'Tag_Battery_Level_pc': 45,\n",
       "  'Signal_Strength_dB': -64.9,\n",
       "  'Migration_Start_Month': 'Jan',\n",
       "  'Migration_End_Month': 'Apr',\n",
       "  'Rest_Stops': 3,\n",
       "  'Predator_Sightings': 6,\n",
       "  'Tag_Type': 'Radio',\n",
       "  'Migrated_in_Flock': 'Yes',\n",
       "  'Flock_Size': 264,\n",
       "  'Food_Supply_Level': 'Low',\n",
       "  'Tracking_Quality': 'Excellent',\n",
       "  'Migration_Interrupted': 'Yes',\n",
       "  'Interrupted_Reason': 'Storm',\n",
       "  'Tagged_By': 'Researcher_A',\n",
       "  'Tag_Weight_g': 27.0,\n",
       "  'Migration_Success': 'Failed',\n",
       "  'Recovery_Location_Known': 'No',\n",
       "  'Recovery_Time_days': 102,\n",
       "  'Observation_Counts': 56,\n",
       "  'Observation_Quality': 'Low'}]"
      ]
     },
     "execution_count": 10,
     "metadata": {},
     "output_type": "execute_result"
    }
   ],
   "source": [
    "# Or using the URL directly\n",
    "\n",
    "d = load_uw_data(croissant_jsonld_url=\"https://web.s3.wisc.edu/pelican-data-loader/metadata/bird_migration_data.json\")\n",
    "list(d[\"train\"].take(1))\n"
   ]
  }
 ],
 "metadata": {
  "kernelspec": {
   "display_name": "pelican-data-loader",
   "language": "python",
   "name": "python3"
  },
  "language_info": {
   "codemirror_mode": {
    "name": "ipython",
    "version": 3
   },
   "file_extension": ".py",
   "mimetype": "text/x-python",
   "name": "python",
   "nbconvert_exporter": "python",
   "pygments_lexer": "ipython3",
   "version": "3.12.3"
  }
 },
 "nbformat": 4,
 "nbformat_minor": 5
}
