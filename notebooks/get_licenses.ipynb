{
 "cells": [
  {
   "cell_type": "markdown",
   "id": "1f77a9ed",
   "metadata": {},
   "source": [
    "# Get Licenses info\n",
    "\n",
    "source: https://spdx.org/licenses/"
   ]
  },
  {
   "cell_type": "code",
   "execution_count": 1,
   "id": "d827f573",
   "metadata": {},
   "outputs": [],
   "source": [
    "import httpx\n",
    "from bs4 import BeautifulSoup\n",
    "import pandas as pd"
   ]
  },
  {
   "cell_type": "code",
   "execution_count": null,
   "id": "a0bf6222",
   "metadata": {},
   "outputs": [],
   "source": [
    "url = \"https://spdx.org/licenses/\"\n",
    "response = httpx.get(url)\n",
    "page = BeautifulSoup(response.text, \"html.parser\")\n",
    "table = page.find(\"table\")"
   ]
  },
  {
   "cell_type": "code",
   "execution_count": 4,
   "id": "bf582aad",
   "metadata": {},
   "outputs": [
    {
     "data": {
      "text/plain": [
       "['full_name', 'identifier', 'fsf_free_libre', 'osi_approved']"
      ]
     },
     "execution_count": 4,
     "metadata": {},
     "output_type": "execute_result"
    }
   ],
   "source": [
    "# Deal with the headers\n",
    "\n",
    "headers = [th.get_text(strip=True) for th in table.find(\"thead\").find_all(\"th\")]\n",
    "\n",
    "# rename to more pythonic names\n",
    "columns_mapping = {\n",
    "    \"Full name\": \"full_name\",\n",
    "    \"Identifier\": \"identifier\",\n",
    "    \"FSF Free/Libre?\": \"fsf_free_libre\",\n",
    "    \"OSI Approved?\": \"osi_approved\",\n",
    "}\n",
    "columns = [columns_mapping.get(h, h) for h in headers]\n",
    "columns"
   ]
  },
  {
   "cell_type": "code",
   "execution_count": null,
   "id": "d6b5d6dc",
   "metadata": {},
   "outputs": [],
   "source": [
    "# Deal with data rows\n",
    "\n",
    "rows = []\n",
    "base_url = \"https://spdx.org/licenses/\"\n",
    "\n",
    "for tr in table.select(\"tbody tr\"):\n",
    "    row = [td.get_text(strip=True) for td in tr.find_all(\"td\")]\n",
    "    a_tag = tr.find(\"a\", href=True)\n",
    "\n",
    "    if a_tag:\n",
    "        link = a_tag[\"href\"].lstrip(\"./\")\n",
    "        link = base_url + link if not link.startswith(\"http\") else url\n",
    "    else:\n",
    "        link = None\n",
    "\n",
    "    row.append(link)\n",
    "    rows.append(row)\n"
   ]
  },
  {
   "cell_type": "code",
   "execution_count": null,
   "id": "e7dcaedd",
   "metadata": {},
   "outputs": [
    {
     "data": {
      "text/html": [
       "<div>\n",
       "<style scoped>\n",
       "    .dataframe tbody tr th:only-of-type {\n",
       "        vertical-align: middle;\n",
       "    }\n",
       "\n",
       "    .dataframe tbody tr th {\n",
       "        vertical-align: top;\n",
       "    }\n",
       "\n",
       "    .dataframe thead th {\n",
       "        text-align: right;\n",
       "    }\n",
       "</style>\n",
       "<table border=\"1\" class=\"dataframe\">\n",
       "  <thead>\n",
       "    <tr style=\"text-align: right;\">\n",
       "      <th></th>\n",
       "      <th>identifier</th>\n",
       "      <th>full_name</th>\n",
       "      <th>url</th>\n",
       "      <th>fsf_free_libre</th>\n",
       "      <th>osi_approved</th>\n",
       "    </tr>\n",
       "  </thead>\n",
       "  <tbody>\n",
       "    <tr>\n",
       "      <th>0</th>\n",
       "      <td>0BSD</td>\n",
       "      <td>BSD Zero Clause License</td>\n",
       "      <td>https://spdx.org/licenses/0BSD.html</td>\n",
       "      <td>False</td>\n",
       "      <td>True</td>\n",
       "    </tr>\n",
       "    <tr>\n",
       "      <th>1</th>\n",
       "      <td>3D-Slicer-1.0</td>\n",
       "      <td>3D Slicer License v1.0</td>\n",
       "      <td>https://spdx.org/licenses/3D-Slicer-1.0.html</td>\n",
       "      <td>False</td>\n",
       "      <td>False</td>\n",
       "    </tr>\n",
       "    <tr>\n",
       "      <th>2</th>\n",
       "      <td>AAL</td>\n",
       "      <td>Attribution Assurance License</td>\n",
       "      <td>https://spdx.org/licenses/AAL.html</td>\n",
       "      <td>False</td>\n",
       "      <td>True</td>\n",
       "    </tr>\n",
       "    <tr>\n",
       "      <th>3</th>\n",
       "      <td>Abstyles</td>\n",
       "      <td>Abstyles License</td>\n",
       "      <td>https://spdx.org/licenses/Abstyles.html</td>\n",
       "      <td>False</td>\n",
       "      <td>False</td>\n",
       "    </tr>\n",
       "    <tr>\n",
       "      <th>4</th>\n",
       "      <td>AdaCore-doc</td>\n",
       "      <td>AdaCore Doc License</td>\n",
       "      <td>https://spdx.org/licenses/AdaCore-doc.html</td>\n",
       "      <td>False</td>\n",
       "      <td>False</td>\n",
       "    </tr>\n",
       "  </tbody>\n",
       "</table>\n",
       "</div>"
      ],
      "text/plain": [
       "      identifier                      full_name  \\\n",
       "0           0BSD        BSD Zero Clause License   \n",
       "1  3D-Slicer-1.0         3D Slicer License v1.0   \n",
       "2            AAL  Attribution Assurance License   \n",
       "3       Abstyles               Abstyles License   \n",
       "4    AdaCore-doc            AdaCore Doc License   \n",
       "\n",
       "                                            url  fsf_free_libre  osi_approved  \n",
       "0           https://spdx.org/licenses/0BSD.html           False          True  \n",
       "1  https://spdx.org/licenses/3D-Slicer-1.0.html           False         False  \n",
       "2            https://spdx.org/licenses/AAL.html           False          True  \n",
       "3       https://spdx.org/licenses/Abstyles.html           False         False  \n",
       "4    https://spdx.org/licenses/AdaCore-doc.html           False         False  "
      ]
     },
     "execution_count": 10,
     "metadata": {},
     "output_type": "execute_result"
    }
   ],
   "source": [
    "df = pd.DataFrame(rows, columns=columns + [\"url\"])\n",
    "\n",
    "# Cast fsf_free_libre and osi_approved to boolean\n",
    "df[\"fsf_free_libre\"] = df[\"fsf_free_libre\"].apply(lambda x: x == \"Y\")\n",
    "df[\"osi_approved\"] = df[\"osi_approved\"].apply(lambda x: x == \"Y\")\n",
    "\n",
    "# Reorder a bit\n",
    "df = df[[\"identifier\", \"full_name\", \"url\", \"fsf_free_libre\", \"osi_approved\"]]\n",
    "df.head()"
   ]
  },
  {
   "cell_type": "code",
   "execution_count": null,
   "id": "6ee6742f",
   "metadata": {},
   "outputs": [],
   "source": [
    "# Dump to jsonl\n",
    "from pathlib import Path\n",
    "\n",
    "data_dir = Path(\"pelican_data_loader/data\")\n",
    "data_dir.mkdir(parents=True, exist_ok=True)\n",
    "df.to_json(data_dir / \"licenses.jsonl\", orient=\"records\", lines=True)\n"
   ]
  }
 ],
 "metadata": {
  "kernelspec": {
   "display_name": ".venv",
   "language": "python",
   "name": "python3"
  },
  "language_info": {
   "codemirror_mode": {
    "name": "ipython",
    "version": 3
   },
   "file_extension": ".py",
   "mimetype": "text/x-python",
   "name": "python",
   "nbconvert_exporter": "python",
   "pygments_lexer": "ipython3",
   "version": "3.12.3"
  }
 },
 "nbformat": 4,
 "nbformat_minor": 5
}
