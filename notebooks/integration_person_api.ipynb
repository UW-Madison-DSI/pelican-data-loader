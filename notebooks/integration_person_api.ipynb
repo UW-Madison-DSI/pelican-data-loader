{
 "cells": [
  {
   "cell_type": "markdown",
   "id": "bd11e35d",
   "metadata": {},
   "source": [
    "### Person API integration\n",
    "\n",
    "It seems like some PersonAPI function is broken during the WorkDays transition, push this to later time..."
   ]
  },
  {
   "cell_type": "code",
   "execution_count": 1,
   "id": "06f1b78d",
   "metadata": {},
   "outputs": [],
   "source": [
    "import os\n",
    "\n",
    "os.chdir(\"..\")"
   ]
  },
  {
   "cell_type": "code",
   "execution_count": 2,
   "id": "28425a38",
   "metadata": {},
   "outputs": [
    {
     "data": {
      "text/plain": [
       "True"
      ]
     },
     "execution_count": 2,
     "metadata": {},
     "output_type": "execute_result"
    }
   ],
   "source": [
    "from pelican_data_loader.external.person_api import get_oauth_token\n",
    "from typing import Any\n",
    "from dotenv import load_dotenv\n",
    "import httpx\n",
    "\n",
    "load_dotenv()"
   ]
  },
  {
   "cell_type": "code",
   "execution_count": null,
   "id": "197cde0f",
   "metadata": {},
   "outputs": [],
   "source": [
    "BASE_URL = \"https://api.wisc.edu/people/\"\n",
    "\n",
    "\n",
    "class PersonAPI:\n",
    "    def __init__(self, token: str | None = None):\n",
    "        \"\"\"Initialize the PersonAPI with an OAuth token.\"\"\"\n",
    "        if token is None:\n",
    "            token = get_oauth_token()\n",
    "        self.headers = {\"Authorization\": f\"Bearer {token}\"}\n",
    "\n",
    "    def get_people(\n",
    "        self,\n",
    "        params: dict[str, Any] | None = None,\n",
    "        page_size: int = 100,\n",
    "        page_after: int | None = None,\n",
    "    ) -> list[dict[str, Any]]:\n",
    "        \"\"\"Fetch people data from the Wisc API with pagination.\"\"\"\n",
    "\n",
    "        results: list[dict[str, Any]] = []\n",
    "        page = 1\n",
    "\n",
    "        while True:\n",
    "            _params = (params or {}) | {\"page[size]\": str(page_size)} | ({\"page[after]\": str(page_after)} or {})\n",
    "            resp = httpx.get(BASE_URL, headers=self.headers, params=_params)\n",
    "            resp.raise_for_status()\n",
    "\n",
    "            data = resp.json().get(\"data\", [])\n",
    "            if not data:\n",
    "                break\n",
    "\n",
    "            results.extend(data)\n",
    "            page += 1\n",
    "        return results"
   ]
  },
  {
   "cell_type": "code",
   "execution_count": 12,
   "id": "02e63c60",
   "metadata": {},
   "outputs": [],
   "source": [
    "api = PersonAPI()"
   ]
  },
  {
   "cell_type": "code",
   "execution_count": 14,
   "id": "ab5d417a",
   "metadata": {},
   "outputs": [
    {
     "ename": "HTTPStatusError",
     "evalue": "Client error '400 Bad Request' for url 'https://api.wisc.edu/people?filter%5BlastName%5D=Lo&page%5Bsize%5D=100&page%5Bafter%5D=None'\nFor more information check: https://developer.mozilla.org/en-US/docs/Web/HTTP/Status/400",
     "output_type": "error",
     "traceback": [
      "\u001b[31m---------------------------------------------------------------------------\u001b[39m",
      "\u001b[31mHTTPStatusError\u001b[39m                           Traceback (most recent call last)",
      "\u001b[36mCell\u001b[39m\u001b[36m \u001b[39m\u001b[32mIn[14]\u001b[39m\u001b[32m, line 1\u001b[39m\n\u001b[32m----> \u001b[39m\u001b[32m1\u001b[39m \u001b[43mapi\u001b[49m\u001b[43m.\u001b[49m\u001b[43mget_people\u001b[49m\u001b[43m(\u001b[49m\u001b[43mparams\u001b[49m\u001b[43m=\u001b[49m\u001b[43m{\u001b[49m\u001b[33;43m\"\u001b[39;49m\u001b[33;43mfilter[lastName]\u001b[39;49m\u001b[33;43m\"\u001b[39;49m\u001b[43m:\u001b[49m\u001b[43m \u001b[49m\u001b[33;43m\"\u001b[39;49m\u001b[33;43mLo\u001b[39;49m\u001b[33;43m\"\u001b[39;49m\u001b[43m}\u001b[49m\u001b[43m)\u001b[49m\n",
      "\u001b[36mCell\u001b[39m\u001b[36m \u001b[39m\u001b[32mIn[11]\u001b[39m\u001b[32m, line 25\u001b[39m, in \u001b[36mPersonAPI.get_people\u001b[39m\u001b[34m(self, params, page_size, page_after)\u001b[39m\n\u001b[32m     23\u001b[39m _params = (params \u001b[38;5;129;01mor\u001b[39;00m {}) | {\u001b[33m\"\u001b[39m\u001b[33mpage[size]\u001b[39m\u001b[33m\"\u001b[39m: \u001b[38;5;28mstr\u001b[39m(page_size)} | ({\u001b[33m\"\u001b[39m\u001b[33mpage[after]\u001b[39m\u001b[33m\"\u001b[39m: \u001b[38;5;28mstr\u001b[39m(page_after)} \u001b[38;5;129;01mor\u001b[39;00m {})\n\u001b[32m     24\u001b[39m resp = httpx.get(BASE_URL, headers=\u001b[38;5;28mself\u001b[39m.headers, params=_params)\n\u001b[32m---> \u001b[39m\u001b[32m25\u001b[39m \u001b[43mresp\u001b[49m\u001b[43m.\u001b[49m\u001b[43mraise_for_status\u001b[49m\u001b[43m(\u001b[49m\u001b[43m)\u001b[49m\n\u001b[32m     27\u001b[39m data = resp.json().get(\u001b[33m\"\u001b[39m\u001b[33mdata\u001b[39m\u001b[33m\"\u001b[39m, [])\n\u001b[32m     28\u001b[39m \u001b[38;5;28;01mif\u001b[39;00m \u001b[38;5;129;01mnot\u001b[39;00m data:\n",
      "\u001b[36mFile \u001b[39m\u001b[32m~/repo/pelican-data-loader/.venv/lib/python3.12/site-packages/httpx/_models.py:829\u001b[39m, in \u001b[36mResponse.raise_for_status\u001b[39m\u001b[34m(self)\u001b[39m\n\u001b[32m    827\u001b[39m error_type = error_types.get(status_class, \u001b[33m\"\u001b[39m\u001b[33mInvalid status code\u001b[39m\u001b[33m\"\u001b[39m)\n\u001b[32m    828\u001b[39m message = message.format(\u001b[38;5;28mself\u001b[39m, error_type=error_type)\n\u001b[32m--> \u001b[39m\u001b[32m829\u001b[39m \u001b[38;5;28;01mraise\u001b[39;00m HTTPStatusError(message, request=request, response=\u001b[38;5;28mself\u001b[39m)\n",
      "\u001b[31mHTTPStatusError\u001b[39m: Client error '400 Bad Request' for url 'https://api.wisc.edu/people?filter%5BlastName%5D=Lo&page%5Bsize%5D=100&page%5Bafter%5D=None'\nFor more information check: https://developer.mozilla.org/en-US/docs/Web/HTTP/Status/400"
     ]
    }
   ],
   "source": [
    "api.get_people(params={\"filter[lastName]\": \"Lo\"})"
   ]
  },
  {
   "cell_type": "code",
   "execution_count": 6,
   "id": "08f81e7f",
   "metadata": {},
   "outputs": [
    {
     "data": {
      "text/plain": [
       "{'filter[firstName]': 'Jason'}"
      ]
     },
     "execution_count": 6,
     "metadata": {},
     "output_type": "execute_result"
    }
   ],
   "source": [
    "api._build_filter_param({\"firstName\": \"Jason\"})"
   ]
  },
  {
   "cell_type": "code",
   "execution_count": null,
   "id": "7e26b0bf",
   "metadata": {},
   "outputs": [],
   "source": [
    "api.get_people(\n",
    "    filters={\"firstName\": \"Jason\"},\n",
    "    fields=[\"id\", \"name\", \"email\"],\n",
    "    include=\"department\",\n",
    "    page_size=3,\n",
    "    max_pages=1,\n",
    ")"
   ]
  },
  {
   "cell_type": "code",
   "execution_count": null,
   "id": "96013377",
   "metadata": {},
   "outputs": [],
   "source": [
    "headers = {\"Authorization\": f\"Bearer {get_oauth_token()}\"}\n",
    "base_url = \"https://api.wisc.edu/people/\""
   ]
  },
  {
   "cell_type": "code",
   "execution_count": null,
   "id": "79df8a2b",
   "metadata": {},
   "outputs": [],
   "source": [
    "len(data)"
   ]
  },
  {
   "cell_type": "code",
   "execution_count": null,
   "id": "ccb83d9f",
   "metadata": {},
   "outputs": [],
   "source": []
  }
 ],
 "metadata": {
  "kernelspec": {
   "display_name": ".venv",
   "language": "python",
   "name": "python3"
  },
  "language_info": {
   "codemirror_mode": {
    "name": "ipython",
    "version": 3
   },
   "file_extension": ".py",
   "mimetype": "text/x-python",
   "name": "python",
   "nbconvert_exporter": "python",
   "pygments_lexer": "ipython3",
   "version": "3.12.3"
  }
 },
 "nbformat": 4,
 "nbformat_minor": 5
}
