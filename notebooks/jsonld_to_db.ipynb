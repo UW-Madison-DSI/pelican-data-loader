{
 "cells": [
  {
   "cell_type": "markdown",
   "id": "2580de3f",
   "metadata": {},
   "source": [
    "### Meta-data local store\n",
    "\n",
    "- We use SQLite for now..."
   ]
  },
  {
   "cell_type": "code",
   "execution_count": 1,
   "id": "ceef0301",
   "metadata": {},
   "outputs": [],
   "source": [
    "import os\n",
    "\n",
    "os.chdir(\"..\")"
   ]
  },
  {
   "cell_type": "code",
   "execution_count": 2,
   "id": "f86ca6b0",
   "metadata": {},
   "outputs": [],
   "source": [
    "import json\n",
    "from pathlib import Path\n",
    "\n",
    "from pelican_data_loader.db import initialize_database, Dataset, Person\n",
    "from sqlmodel import Session, create_engine\n"
   ]
  },
  {
   "cell_type": "code",
   "execution_count": 3,
   "id": "723bb31c",
   "metadata": {},
   "outputs": [
    {
     "name": "stdout",
     "output_type": "stream",
     "text": [
      "2025-07-02 11:46:31,122 INFO sqlalchemy.engine.Engine BEGIN (implicit)\n",
      "2025-07-02 11:46:31,123 INFO sqlalchemy.engine.Engine PRAGMA main.table_info(\"persondatasetlink\")\n",
      "2025-07-02 11:46:31,123 INFO sqlalchemy.engine.Engine [raw sql] ()\n",
      "2025-07-02 11:46:31,124 INFO sqlalchemy.engine.Engine PRAGMA temp.table_info(\"persondatasetlink\")\n",
      "2025-07-02 11:46:31,124 INFO sqlalchemy.engine.Engine [raw sql] ()\n",
      "2025-07-02 11:46:31,125 INFO sqlalchemy.engine.Engine PRAGMA main.table_info(\"dataset\")\n",
      "2025-07-02 11:46:31,126 INFO sqlalchemy.engine.Engine [raw sql] ()\n",
      "2025-07-02 11:46:31,126 INFO sqlalchemy.engine.Engine PRAGMA temp.table_info(\"dataset\")\n",
      "2025-07-02 11:46:31,127 INFO sqlalchemy.engine.Engine [raw sql] ()\n",
      "2025-07-02 11:46:31,127 INFO sqlalchemy.engine.Engine PRAGMA main.table_info(\"person\")\n",
      "2025-07-02 11:46:31,128 INFO sqlalchemy.engine.Engine [raw sql] ()\n",
      "2025-07-02 11:46:31,129 INFO sqlalchemy.engine.Engine PRAGMA temp.table_info(\"person\")\n",
      "2025-07-02 11:46:31,129 INFO sqlalchemy.engine.Engine [raw sql] ()\n",
      "2025-07-02 11:46:31,130 INFO sqlalchemy.engine.Engine \n",
      "CREATE TABLE dataset (\n",
      "\tid INTEGER NOT NULL, \n",
      "\tname VARCHAR NOT NULL, \n",
      "\tdescription VARCHAR NOT NULL, \n",
      "\tversion VARCHAR NOT NULL, \n",
      "\tpublished_date VARCHAR NOT NULL, \n",
      "\tprimary_source_url VARCHAR NOT NULL, \n",
      "\tprimary_source_sha256 VARCHAR NOT NULL, \n",
      "\tlicense VARCHAR NOT NULL, \n",
      "\tkeywords VARCHAR NOT NULL, \n",
      "\tcroissant_jsonld VARCHAR, \n",
      "\tPRIMARY KEY (id)\n",
      ")\n",
      "\n",
      "\n",
      "2025-07-02 11:46:31,131 INFO sqlalchemy.engine.Engine [no key 0.00040s] ()\n",
      "2025-07-02 11:46:31,139 INFO sqlalchemy.engine.Engine \n",
      "CREATE TABLE person (\n",
      "\tid INTEGER NOT NULL, \n",
      "\tfirst_name VARCHAR NOT NULL, \n",
      "\tlast_name VARCHAR NOT NULL, \n",
      "\temail VARCHAR NOT NULL, \n",
      "\tPRIMARY KEY (id)\n",
      ")\n",
      "\n",
      "\n",
      "2025-07-02 11:46:31,139 INFO sqlalchemy.engine.Engine [no key 0.00039s] ()\n",
      "2025-07-02 11:46:31,149 INFO sqlalchemy.engine.Engine CREATE UNIQUE INDEX ix_person_email ON person (email)\n",
      "2025-07-02 11:46:31,149 INFO sqlalchemy.engine.Engine [no key 0.00057s] ()\n",
      "2025-07-02 11:46:31,158 INFO sqlalchemy.engine.Engine \n",
      "CREATE TABLE persondatasetlink (\n",
      "\tdataset_id INTEGER NOT NULL, \n",
      "\tperson_id INTEGER NOT NULL, \n",
      "\tPRIMARY KEY (dataset_id, person_id), \n",
      "\tFOREIGN KEY(dataset_id) REFERENCES dataset (id), \n",
      "\tFOREIGN KEY(person_id) REFERENCES person (id)\n",
      ")\n",
      "\n",
      "\n",
      "2025-07-02 11:46:31,158 INFO sqlalchemy.engine.Engine [no key 0.00041s] ()\n",
      "2025-07-02 11:46:31,167 INFO sqlalchemy.engine.Engine COMMIT\n"
     ]
    }
   ],
   "source": [
    "initialize_database(path=Path(\"data/datasets.db\"), wipe=True)"
   ]
  },
  {
   "cell_type": "code",
   "execution_count": 4,
   "id": "c783788b",
   "metadata": {},
   "outputs": [],
   "source": [
    "# We need a function to flatten most useful metadata from the croissant jsonld to the Dataset model.\n",
    "# This will be used to populate the Dataset table in the SQLite database.\n",
    "\n",
    "metadata = json.loads(Path(\"data/bird_migration_metadata.json\").read_text())\n",
    "\n",
    "# Dataset object include the most useful flattened metadata and the raw JSON-LD metadata.\n",
    "test_dataset = Dataset.from_jsonld(metadata)\n"
   ]
  },
  {
   "cell_type": "code",
   "execution_count": 5,
   "id": "7dd1db01",
   "metadata": {},
   "outputs": [
    {
     "data": {
      "text/plain": [
       "'https://web.s3.wisc.edu/pelican-data-loader/data/bird_migration_data.csv'"
      ]
     },
     "execution_count": 5,
     "metadata": {},
     "output_type": "execute_result"
    }
   ],
   "source": [
    "# We populate the primary source with a best guess based on the url's extension, see `pelican_data_loader.db.guess_primary_url` for details.\n",
    "test_dataset.primary_source_url"
   ]
  },
  {
   "cell_type": "code",
   "execution_count": 6,
   "id": "388a1ac6",
   "metadata": {},
   "outputs": [
    {
     "data": {
      "text/plain": [
       "[Person(first_name='Jason', last_name='Lo', email='jason.lo@wisc.edu', id=None),\n",
       " Person(first_name='Test', last_name='User', email='test.user@example.com', id=None)]"
      ]
     },
     "execution_count": 6,
     "metadata": {},
     "output_type": "execute_result"
    }
   ],
   "source": [
    "test_dataset.creators"
   ]
  },
  {
   "cell_type": "code",
   "execution_count": 7,
   "id": "e3e34e15",
   "metadata": {},
   "outputs": [
    {
     "data": {
      "text/plain": [
       "{'name': 'Bird Migration Data',\n",
       " 'description': 'Bird migration data',\n",
       " 'version': '0.0.1',\n",
       " 'published_date': '2025-07-02',\n",
       " 'primary_source_url': 'https://web.s3.wisc.edu/pelican-data-loader/data/bird_migration_data.csv',\n",
       " 'primary_source_sha256': '85da618b044d8220b5a8c3c7030ff3f35f791e875736ed43115415750a824fbf',\n",
       " 'license': 'https://choosealicense.com/licenses/mit/',\n",
       " 'keywords': 'bird, testing',\n",
       " 'id': None}"
      ]
     },
     "execution_count": 7,
     "metadata": {},
     "output_type": "execute_result"
    }
   ],
   "source": [
    "# These are the most useful fields for end-user query. We can extend this later.\n",
    "test_dataset.model_dump(exclude={\"croissant_jsonld\"})"
   ]
  },
  {
   "cell_type": "code",
   "execution_count": 8,
   "id": "4d8cb1f7",
   "metadata": {},
   "outputs": [],
   "source": [
    "# Push the parsed metadata to the database.\n",
    "with Session(create_engine(\"sqlite:///data/datasets.db\")) as session:\n",
    "    session.add(test_dataset)\n",
    "    session.commit()\n"
   ]
  },
  {
   "cell_type": "code",
   "execution_count": 9,
   "id": "3316fa13",
   "metadata": {},
   "outputs": [
    {
     "name": "stdout",
     "output_type": "stream",
     "text": [
      "Dataset(id=1, name=Bird Migration Data, version=0.0.1, published_date=2025-07-02)\n"
     ]
    }
   ],
   "source": [
    "# Query by primary creator email.\n",
    "from sqlmodel import select\n",
    "\n",
    "with Session(create_engine(\"sqlite:///data/datasets.db\")) as session:\n",
    "    statement = select(Dataset).where(Dataset.creators.any(Person.email == \"jason.lo@wisc.edu\"))  # type: ignore\n",
    "    results = session.exec(statement)\n",
    "    for dataset in results:\n",
    "        print(dataset)\n"
   ]
  },
  {
   "cell_type": "code",
   "execution_count": 10,
   "id": "a38d7493",
   "metadata": {},
   "outputs": [
    {
     "name": "stdout",
     "output_type": "stream",
     "text": [
      "Dataset(id=1, name=Bird Migration Data, version=0.0.1, published_date=2025-07-02)\n"
     ]
    }
   ],
   "source": [
    "# Query by keyword `testing`\n",
    "\n",
    "with Session(create_engine(\"sqlite:///data/datasets.db\")) as session:\n",
    "    statement = select(Dataset).where(Dataset.keywords.contains(\"testing\"))  # type: ignore\n",
    "    results = session.exec(statement)\n",
    "    for dataset in results:\n",
    "        print(dataset)"
   ]
  },
  {
   "cell_type": "code",
   "execution_count": 11,
   "id": "4b76d953",
   "metadata": {},
   "outputs": [
    {
     "name": "stdout",
     "output_type": "stream",
     "text": [
      "Dataset(id=1, name=Bird Migration Data, version=0.0.1, published_date=2025-07-02)\n"
     ]
    }
   ],
   "source": [
    "# Query by description contains `bird`\n",
    "\n",
    "with Session(create_engine(\"sqlite:///data/datasets.db\")) as session:\n",
    "    statement = select(Dataset).where(Dataset.description.contains(\"bird\"))  # type: ignore\n",
    "    results = session.exec(statement)\n",
    "    for dataset in results:\n",
    "        print(dataset)"
   ]
  }
 ],
 "metadata": {
  "kernelspec": {
   "display_name": ".venv",
   "language": "python",
   "name": "python3"
  },
  "language_info": {
   "codemirror_mode": {
    "name": "ipython",
    "version": 3
   },
   "file_extension": ".py",
   "mimetype": "text/x-python",
   "name": "python",
   "nbconvert_exporter": "python",
   "pygments_lexer": "ipython3",
   "version": "3.12.3"
  }
 },
 "nbformat": 4,
 "nbformat_minor": 5
}
