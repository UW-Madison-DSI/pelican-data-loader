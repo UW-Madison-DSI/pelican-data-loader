{
 "cells": [
  {
   "cell_type": "markdown",
   "id": "2580de3f",
   "metadata": {},
   "source": [
    "### Meta-data local store\n",
    "\n",
    "- We use SQLite for now..."
   ]
  },
  {
   "cell_type": "code",
   "execution_count": null,
   "id": "ceef0301",
   "metadata": {},
   "outputs": [],
   "source": [
    "import os\n",
    "\n",
    "os.chdir(\"..\")"
   ]
  },
  {
   "cell_type": "code",
   "execution_count": null,
   "id": "f86ca6b0",
   "metadata": {},
   "outputs": [],
   "source": [
    "import json\n",
    "from pathlib import Path\n",
    "\n",
    "from pelican_data_loader.db import initialize_database, Dataset\n",
    "from sqlmodel import Session, create_engine\n"
   ]
  },
  {
   "cell_type": "code",
   "execution_count": null,
   "id": "723bb31c",
   "metadata": {},
   "outputs": [],
   "source": [
    "initialize_database(path=Path(\"data/datasets.db\"), wipe=True)"
   ]
  },
  {
   "cell_type": "code",
   "execution_count": null,
   "id": "c783788b",
   "metadata": {},
   "outputs": [],
   "source": [
    "# We need a function to flatten most useful metadata from the croissant jsonld to the Dataset model.\n",
    "# This will be used to populate the Dataset table in the SQLite database.\n",
    "\n",
    "metadata = json.loads(Path(\"data/bird_migration_metadata.json\").read_text())\n",
    "\n",
    "# Dataset object include the most useful flattened metadata and the raw JSON-LD metadata.\n",
    "test_dataset = Dataset.from_jsonld(metadata)\n"
   ]
  },
  {
   "cell_type": "code",
   "execution_count": null,
   "id": "7dd1db01",
   "metadata": {},
   "outputs": [],
   "source": [
    "# We populate the primary source with a best guess based on the url's extension, see `pelican_data_loader.db.guess_primary_url` for details.\n",
    "test_dataset.primary_source_url"
   ]
  },
  {
   "cell_type": "code",
   "execution_count": null,
   "id": "e3e34e15",
   "metadata": {},
   "outputs": [],
   "source": [
    "# These are the most useful fields for end-user query. We can extend this later.\n",
    "test_dataset.model_dump(exclude={\"croissant_jsonld\"})"
   ]
  },
  {
   "cell_type": "code",
   "execution_count": null,
   "id": "4d8cb1f7",
   "metadata": {},
   "outputs": [],
   "source": [
    "# Push the parsed metadata to the database.\n",
    "with Session(create_engine(\"sqlite:///data/datasets.db\")) as session:\n",
    "    session.add(test_dataset)\n",
    "    session.commit()\n"
   ]
  },
  {
   "cell_type": "code",
   "execution_count": null,
   "id": "3316fa13",
   "metadata": {},
   "outputs": [],
   "source": [
    "# Query by primary creator email.\n",
    "from sqlmodel import select\n",
    "\n",
    "with Session(create_engine(\"sqlite:///data/datasets.db\")) as session:\n",
    "    statement = select(Dataset).where(Dataset.primary_creator_email == \"jason.lo@wisc.edu\")\n",
    "    results = session.exec(statement)\n",
    "    for dataset in results:\n",
    "        print(dataset)\n"
   ]
  },
  {
   "cell_type": "code",
   "execution_count": null,
   "id": "a38d7493",
   "metadata": {},
   "outputs": [],
   "source": [
    "# Query by keyword `testing`\n",
    "\n",
    "with Session(create_engine(\"sqlite:///data/datasets.db\")) as session:\n",
    "    statement = select(Dataset).where(Dataset.keywords.contains(\"testing\"))  # type: ignore\n",
    "    results = session.exec(statement)\n",
    "    for dataset in results:\n",
    "        print(dataset)"
   ]
  },
  {
   "cell_type": "code",
   "execution_count": null,
   "id": "4b76d953",
   "metadata": {},
   "outputs": [],
   "source": [
    "# Query by description contains `bird`\n",
    "\n",
    "with Session(create_engine(\"sqlite:///data/datasets.db\")) as session:\n",
    "    statement = select(Dataset).where(Dataset.description.contains(\"bird\"))  # type: ignore\n",
    "    results = session.exec(statement)\n",
    "    for dataset in results:\n",
    "        print(dataset)"
   ]
  }
 ],
 "metadata": {
  "kernelspec": {
   "display_name": ".venv",
   "language": "python",
   "name": "python3"
  },
  "language_info": {
   "codemirror_mode": {
    "name": "ipython",
    "version": 3
   },
   "file_extension": ".py",
   "mimetype": "text/x-python",
   "name": "python",
   "nbconvert_exporter": "python",
   "pygments_lexer": "ipython3",
   "version": "3.12.3"
  }
 },
 "nbformat": 4,
 "nbformat_minor": 5
}
