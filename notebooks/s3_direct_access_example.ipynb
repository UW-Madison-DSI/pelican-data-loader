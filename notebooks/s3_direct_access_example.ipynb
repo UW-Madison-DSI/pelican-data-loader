{
 "cells": [
  {
   "cell_type": "code",
   "execution_count": 1,
   "id": "514241ac",
   "metadata": {},
   "outputs": [],
   "source": [
    "import os\n",
    "\n",
    "os.chdir(\"..\")"
   ]
  },
  {
   "cell_type": "code",
   "execution_count": 4,
   "id": "f9317f59",
   "metadata": {},
   "outputs": [],
   "source": [
    "from pelican_data_loader.data import get_default_s3_client\n",
    "\n",
    "s3 = get_default_s3_client()"
   ]
  },
  {
   "cell_type": "code",
   "execution_count": 5,
   "id": "b947a446",
   "metadata": {},
   "outputs": [
    {
     "data": {
      "text/plain": [
       "[Bucket('kscranmer-bucket-01'), Bucket('pelican-data-loader')]"
      ]
     },
     "execution_count": 5,
     "metadata": {},
     "output_type": "execute_result"
    }
   ],
   "source": [
    "s3.list_buckets()"
   ]
  },
  {
   "cell_type": "code",
   "execution_count": 7,
   "id": "8a036731",
   "metadata": {},
   "outputs": [
    {
     "data": {
      "text/plain": [
       "<minio.helpers.ObjectWriteResult at 0x7f6849e97b90>"
      ]
     },
     "execution_count": 7,
     "metadata": {},
     "output_type": "execute_result"
    }
   ],
   "source": [
    "# upload a file to the bucket\n",
    "\n",
    "s3.fput_object(\n",
    "    bucket_name=\"pelican-data-loader\",\n",
    "    object_name=\"test.txt\",\n",
    "    file_path=\"test.txt\",\n",
    ")"
   ]
  },
  {
   "cell_type": "code",
   "execution_count": 8,
   "id": "fe499bc2",
   "metadata": {},
   "outputs": [
    {
     "data": {
      "text/plain": [
       "<minio.helpers.ObjectWriteResult at 0x7f68992d5850>"
      ]
     },
     "execution_count": 8,
     "metadata": {},
     "output_type": "execute_result"
    }
   ],
   "source": [
    "# upload in-memory data to the bucket\n",
    "\n",
    "s3.put_object(\n",
    "    bucket_name=\"pelican-data-loader\",\n",
    "    object_name=\"README.md\",\n",
    "    data=open(\"README.md\", \"rb\"),\n",
    "    length=os.path.getsize(\"README.md\"),\n",
    ")"
   ]
  },
  {
   "cell_type": "code",
   "execution_count": 9,
   "id": "ad3e86da",
   "metadata": {},
   "outputs": [
    {
     "data": {
      "text/plain": [
       "<minio.helpers.ObjectWriteResult at 0x7f68988dbfb0>"
      ]
     },
     "execution_count": 9,
     "metadata": {},
     "output_type": "execute_result"
    }
   ],
   "source": [
    "s3.put_object(\n",
    "    bucket_name=\"pelican-data-loader\",\n",
    "    object_name=\"data/bird_migration_data.csv\",\n",
    "    data=open(\"data/bird_migration_data.csv\", \"rb\"),\n",
    "    length=os.path.getsize(\"data/bird_migration_data.csv\"),\n",
    ")"
   ]
  }
 ],
 "metadata": {
  "kernelspec": {
   "display_name": ".venv",
   "language": "python",
   "name": "python3"
  },
  "language_info": {
   "codemirror_mode": {
    "name": "ipython",
    "version": 3
   },
   "file_extension": ".py",
   "mimetype": "text/x-python",
   "name": "python",
   "nbconvert_exporter": "python",
   "pygments_lexer": "ipython3",
   "version": "3.12.3"
  }
 },
 "nbformat": 4,
 "nbformat_minor": 5
}
