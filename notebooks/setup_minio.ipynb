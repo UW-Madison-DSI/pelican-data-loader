{
 "cells": [
  {
   "cell_type": "code",
   "execution_count": null,
   "id": "abd5654b",
   "metadata": {},
   "outputs": [],
   "source": [
    "import os\n",
    "\n",
    "os.chdir(\"..\")"
   ]
  },
  {
   "cell_type": "code",
   "execution_count": null,
   "id": "87f9d248",
   "metadata": {},
   "outputs": [],
   "source": [
    "import json\n",
    "from pathlib import Path\n",
    "\n",
    "import boto3\n",
    "from botocore.client import Config"
   ]
  },
  {
   "cell_type": "code",
   "execution_count": null,
   "id": "400082d1",
   "metadata": {},
   "outputs": [],
   "source": [
    "# Load credentials from JSON file\n",
    "credentials = Path(\"secrets/dsi-minio-jason-credentials.json\").read_text()\n",
    "credentials = json.loads(credentials)\n",
    "\n",
    "s3 = boto3.client(\n",
    "    \"s3\",\n",
    "    endpoint_url=\"https://minio.services.dsi.wisc.edu\",\n",
    "    aws_access_key_id=credentials[\"accessKey\"],\n",
    "    aws_secret_access_key=credentials[\"secretKey\"],\n",
    "    config=Config(signature_version=credentials[\"api\"]),\n",
    ")\n"
   ]
  },
  {
   "cell_type": "code",
   "execution_count": null,
   "id": "92020c78",
   "metadata": {},
   "outputs": [],
   "source": [
    "s3.list_buckets()"
   ]
  },
  {
   "cell_type": "markdown",
   "id": "e0166a59",
   "metadata": {},
   "source": [
    "change to public read: `mc anonymous set download dsi/pelican-dev`"
   ]
  },
  {
   "cell_type": "code",
   "execution_count": null,
   "id": "1cdda38c",
   "metadata": {},
   "outputs": [],
   "source": [
    "s3.upload_file(\n",
    "    Filename=\"data/bird_migration_data.csv\",\n",
    "    Bucket=\"pelican-dev\",\n",
    "    Key=\"bird_migration_data.csv\",\n",
    ")"
   ]
  }
 ],
 "metadata": {
  "kernelspec": {
   "display_name": ".venv",
   "language": "python",
   "name": "python3"
  },
  "language_info": {
   "codemirror_mode": {
    "name": "ipython",
    "version": 3
   },
   "file_extension": ".py",
   "mimetype": "text/x-python",
   "name": "python",
   "nbconvert_exporter": "python",
   "pygments_lexer": "ipython3",
   "version": "3.11.9"
  }
 },
 "nbformat": 4,
 "nbformat_minor": 5
}
