{
 "cells": [
  {
   "cell_type": "markdown",
   "id": "fa790cde",
   "metadata": {},
   "source": [
    "# Speed testing large dataset\n",
    "\n",
    "1. Purely huggingface implementation\n",
    "2. S3 with datasets package\n",
    "3. PelicanFS with datasets package"
   ]
  },
  {
   "cell_type": "markdown",
   "id": "42a4fdf0",
   "metadata": {},
   "source": [
    "## HF baseline\n",
    "\n",
    "[the-stack-dedup](https://huggingface.co/datasets/bigcode/the-stack-dedup)"
   ]
  },
  {
   "cell_type": "code",
   "execution_count": null,
   "id": "41befe4f",
   "metadata": {},
   "outputs": [
    {
     "name": "stderr",
     "output_type": "stream",
     "text": [
      "/home/clo36/repo/pelican-data-loader/.venv/lib/python3.12/site-packages/tqdm/auto.py:21: TqdmWarning: IProgress not found. Please update jupyter and ipywidgets. See https://ipywidgets.readthedocs.io/en/stable/user_install.html\n",
      "  from .autonotebook import tqdm as notebook_tqdm\n"
     ]
    }
   ],
   "source": [
    "import os\n",
    "from datasets import load_dataset\n",
    "from random import sample"
   ]
  },
  {
   "cell_type": "code",
   "execution_count": 2,
   "id": "8eb26045",
   "metadata": {},
   "outputs": [
    {
     "name": "stdout",
     "output_type": "stream",
     "text": [
      "{'hexsha': 'd66b6e8d1802ed0a290dd994b9af0da47fc99e83', 'size': tensor(475), 'ext': 'abap', 'lang': 'ABAP', 'max_stars_repo_path': 'src/ixml/if_ixml_node_list.intf.abap', 'max_stars_repo_name': 'FreHu/deps', 'max_stars_repo_head_hexsha': 'cace18b54b325d99e4c54293624c1d2811a68ddd', 'max_stars_repo_licenses': ['MIT'], 'max_stars_count': tensor(nan), 'max_stars_repo_stars_event_min_datetime': None, 'max_stars_repo_stars_event_max_datetime': None, 'max_issues_repo_path': 'src/ixml/if_ixml_node_list.intf.abap', 'max_issues_repo_name': 'FreHu/deps', 'max_issues_repo_head_hexsha': 'cace18b54b325d99e4c54293624c1d2811a68ddd', 'max_issues_repo_licenses': ['MIT'], 'max_issues_count': tensor(nan), 'max_issues_repo_issues_event_min_datetime': None, 'max_issues_repo_issues_event_max_datetime': None, 'max_forks_repo_path': 'src/ixml/if_ixml_node_list.intf.abap', 'max_forks_repo_name': 'FreHu/deps', 'max_forks_repo_head_hexsha': 'cace18b54b325d99e4c54293624c1d2811a68ddd', 'max_forks_repo_licenses': ['MIT'], 'max_forks_count': tensor(nan), 'max_forks_repo_forks_event_min_datetime': None, 'max_forks_repo_forks_event_max_datetime': None, 'content': 'INTERFACE if_ixml_node_list PUBLIC.\\n\\n  METHODS:\\n    get_length\\n      RETURNING\\n        VALUE(length) TYPE i,\\n    create_iterator\\n      RETURNING VALUE(rval) TYPE REF TO if_ixml_node_iterator,\\n    get_item\\n      IMPORTING\\n        item TYPE if_ixml_node_list\\n      RETURNING\\n        VALUE(val) TYPE REF TO if_ixml_node,\\n    create_rev_iterator_filtered\\n      IMPORTING\\n        filter TYPE any\\n      RETURNING\\n        VALUE(val) TYPE REF TO if_ixml_node_iterator.\\n\\nENDINTERFACE.', 'avg_line_length': tensor(23.7500), 'max_line_length': tensor(62), 'alphanum_fraction': tensor(0.6863)}\n",
      "{'hexsha': 'cdd79333da9484411cdeee68a1d91feecab97a33', 'size': tensor(469), 'ext': 'abap', 'lang': 'ABAP', 'max_stars_repo_path': 'src/exceptions/cx_root.clas.abap', 'max_stars_repo_name': 'FreHu/deps', 'max_stars_repo_head_hexsha': 'cace18b54b325d99e4c54293624c1d2811a68ddd', 'max_stars_repo_licenses': ['MIT'], 'max_stars_count': tensor(nan), 'max_stars_repo_stars_event_min_datetime': None, 'max_stars_repo_stars_event_max_datetime': None, 'max_issues_repo_path': 'src/exceptions/cx_root.clas.abap', 'max_issues_repo_name': 'FreHu/deps', 'max_issues_repo_head_hexsha': 'cace18b54b325d99e4c54293624c1d2811a68ddd', 'max_issues_repo_licenses': ['MIT'], 'max_issues_count': tensor(nan), 'max_issues_repo_issues_event_min_datetime': None, 'max_issues_repo_issues_event_max_datetime': None, 'max_forks_repo_path': 'src/exceptions/cx_root.clas.abap', 'max_forks_repo_name': 'FreHu/deps', 'max_forks_repo_head_hexsha': 'cace18b54b325d99e4c54293624c1d2811a68ddd', 'max_forks_repo_licenses': ['MIT'], 'max_forks_count': tensor(nan), 'max_forks_repo_forks_event_min_datetime': None, 'max_forks_repo_forks_event_max_datetime': None, 'content': 'CLASS cx_root DEFINITION ABSTRACT PUBLIC.\\n\\n  PUBLIC SECTION.\\n\\n    INTERFACES if_message.\\n    INTERFACES if_serializable_object.\\n\\n    ALIASES get_longtext FOR if_message~get_longtext.\\n    ALIASES get_text FOR if_message~get_text.\\n\\n    DATA textid TYPE c LENGTH 32.\\n    DATA previous TYPE REF TO cx_root.\\n\\nENDCLASS.\\n\\nCLASS cx_root IMPLEMENTATION.\\n  METHOD if_message~get_text.\\n    RETURN.\\n  ENDMETHOD.\\n\\n  METHOD if_message~get_longtext.\\n    RETURN.\\n  ENDMETHOD.\\nENDCLASS.', 'avg_line_length': tensor(19.5417), 'max_line_length': tensor(53), 'alphanum_fraction': tensor(0.7591)}\n"
     ]
    }
   ],
   "source": [
    "ds = load_dataset(\"bigcode/the-stack-dedup\", split=\"train\", streaming=True)\n",
    "for x in ds.with_format(\"torch\").take(2):\n",
    "    print(x)\n",
    "\n",
    "# Disregard the download time, time to first sample is around 5s"
   ]
  },
  {
   "cell_type": "markdown",
   "id": "4e4f515f",
   "metadata": {},
   "source": [
    "### S3 + datasets"
   ]
  },
  {
   "cell_type": "code",
   "execution_count": null,
   "id": "9389f999",
   "metadata": {},
   "outputs": [],
   "source": [
    "storage_options = {\n",
    "    \"key\": os.getenv(\"S3_ACCESS_KEY_ID\"),\n",
    "    \"secret\": os.getenv(\"S3_SECRET_ACCESS_KEY\"),\n",
    "    \"client_kwargs\": {\"endpoint_url\": \"https://web.s3.wisc.edu\"},\n",
    "}"
   ]
  },
  {
   "cell_type": "code",
   "execution_count": 4,
   "id": "33add004",
   "metadata": {},
   "outputs": [
    {
     "name": "stdout",
     "output_type": "stream",
     "text": [
      "{'hexsha': 'd66b6e8d1802ed0a290dd994b9af0da47fc99e83', 'size': tensor(475), 'ext': 'abap', 'lang': 'ABAP', 'max_stars_repo_path': 'src/ixml/if_ixml_node_list.intf.abap', 'max_stars_repo_name': 'FreHu/deps', 'max_stars_repo_head_hexsha': 'cace18b54b325d99e4c54293624c1d2811a68ddd', 'max_stars_repo_licenses': ['MIT'], 'max_stars_count': tensor(nan), 'max_stars_repo_stars_event_min_datetime': None, 'max_stars_repo_stars_event_max_datetime': None, 'max_issues_repo_path': 'src/ixml/if_ixml_node_list.intf.abap', 'max_issues_repo_name': 'FreHu/deps', 'max_issues_repo_head_hexsha': 'cace18b54b325d99e4c54293624c1d2811a68ddd', 'max_issues_repo_licenses': ['MIT'], 'max_issues_count': tensor(nan), 'max_issues_repo_issues_event_min_datetime': None, 'max_issues_repo_issues_event_max_datetime': None, 'max_forks_repo_path': 'src/ixml/if_ixml_node_list.intf.abap', 'max_forks_repo_name': 'FreHu/deps', 'max_forks_repo_head_hexsha': 'cace18b54b325d99e4c54293624c1d2811a68ddd', 'max_forks_repo_licenses': ['MIT'], 'max_forks_count': tensor(nan), 'max_forks_repo_forks_event_min_datetime': None, 'max_forks_repo_forks_event_max_datetime': None, 'content': 'INTERFACE if_ixml_node_list PUBLIC.\\n\\n  METHODS:\\n    get_length\\n      RETURNING\\n        VALUE(length) TYPE i,\\n    create_iterator\\n      RETURNING VALUE(rval) TYPE REF TO if_ixml_node_iterator,\\n    get_item\\n      IMPORTING\\n        item TYPE if_ixml_node_list\\n      RETURNING\\n        VALUE(val) TYPE REF TO if_ixml_node,\\n    create_rev_iterator_filtered\\n      IMPORTING\\n        filter TYPE any\\n      RETURNING\\n        VALUE(val) TYPE REF TO if_ixml_node_iterator.\\n\\nENDINTERFACE.', 'avg_line_length': tensor(23.7500), 'max_line_length': tensor(62), 'alphanum_fraction': tensor(0.6863)}\n",
      "{'hexsha': 'cdd79333da9484411cdeee68a1d91feecab97a33', 'size': tensor(469), 'ext': 'abap', 'lang': 'ABAP', 'max_stars_repo_path': 'src/exceptions/cx_root.clas.abap', 'max_stars_repo_name': 'FreHu/deps', 'max_stars_repo_head_hexsha': 'cace18b54b325d99e4c54293624c1d2811a68ddd', 'max_stars_repo_licenses': ['MIT'], 'max_stars_count': tensor(nan), 'max_stars_repo_stars_event_min_datetime': None, 'max_stars_repo_stars_event_max_datetime': None, 'max_issues_repo_path': 'src/exceptions/cx_root.clas.abap', 'max_issues_repo_name': 'FreHu/deps', 'max_issues_repo_head_hexsha': 'cace18b54b325d99e4c54293624c1d2811a68ddd', 'max_issues_repo_licenses': ['MIT'], 'max_issues_count': tensor(nan), 'max_issues_repo_issues_event_min_datetime': None, 'max_issues_repo_issues_event_max_datetime': None, 'max_forks_repo_path': 'src/exceptions/cx_root.clas.abap', 'max_forks_repo_name': 'FreHu/deps', 'max_forks_repo_head_hexsha': 'cace18b54b325d99e4c54293624c1d2811a68ddd', 'max_forks_repo_licenses': ['MIT'], 'max_forks_count': tensor(nan), 'max_forks_repo_forks_event_min_datetime': None, 'max_forks_repo_forks_event_max_datetime': None, 'content': 'CLASS cx_root DEFINITION ABSTRACT PUBLIC.\\n\\n  PUBLIC SECTION.\\n\\n    INTERFACES if_message.\\n    INTERFACES if_serializable_object.\\n\\n    ALIASES get_longtext FOR if_message~get_longtext.\\n    ALIASES get_text FOR if_message~get_text.\\n\\n    DATA textid TYPE c LENGTH 32.\\n    DATA previous TYPE REF TO cx_root.\\n\\nENDCLASS.\\n\\nCLASS cx_root IMPLEMENTATION.\\n  METHOD if_message~get_text.\\n    RETURN.\\n  ENDMETHOD.\\n\\n  METHOD if_message~get_longtext.\\n    RETURN.\\n  ENDMETHOD.\\nENDCLASS.', 'avg_line_length': tensor(19.5417), 'max_line_length': tensor(53), 'alphanum_fraction': tensor(0.7591)}\n"
     ]
    }
   ],
   "source": [
    "ds = load_dataset(\n",
    "    \"parquet\", data_files=\"s3://pelican-data-loader/data/datasets--bigcode--the-stack-dedup/**/*.parquet\", storage_options=storage_options, streaming=True\n",
    ")\n",
    "for x in ds.with_format(\"torch\")[\"train\"].take(2):\n",
    "    print(x)"
   ]
  },
  {
   "cell_type": "markdown",
   "id": "c6f7123c",
   "metadata": {},
   "source": [
    "ttfs around 13s, still acceptable, especially with prefetching"
   ]
  },
  {
   "cell_type": "markdown",
   "id": "32a6f047",
   "metadata": {},
   "source": [
    "### Pelicanfs"
   ]
  },
  {
   "cell_type": "code",
   "execution_count": 8,
   "id": "47af506e",
   "metadata": {},
   "outputs": [],
   "source": [
    "# Intuitively this should work, but it doesn't for some reason\n",
    "# dataset = load_dataset(\"parquet\", data_files=\"pelican://uwdf-director.chtc.wisc.edu/wisc.edu/dsi/data/datasets--bigcode--the-stack-dedup/**/*.parquet\", streaming=True)"
   ]
  },
  {
   "cell_type": "code",
   "execution_count": 27,
   "id": "a6a39bf8",
   "metadata": {},
   "outputs": [
    {
     "data": {
      "text/plain": [
       "['pelican://uwdf-director.chtc.wisc.edu/wisc.edu/dsi/pytorch/data/datasets--bigcode--the-stack-dedup/snapshots/17cad72c886a2858e08d4c349a00d6466f54df63/data/abap/data-00000-of-00001.parquet',\n",
       " 'pelican://uwdf-director.chtc.wisc.edu/wisc.edu/dsi/pytorch/data/datasets--bigcode--the-stack-dedup/snapshots/17cad72c886a2858e08d4c349a00d6466f54df63/data/actionscript/data-00000-of-00002.parquet',\n",
       " 'pelican://uwdf-director.chtc.wisc.edu/wisc.edu/dsi/pytorch/data/datasets--bigcode--the-stack-dedup/snapshots/17cad72c886a2858e08d4c349a00d6466f54df63/data/actionscript/data-00001-of-00002.parquet']"
      ]
     },
     "execution_count": 27,
     "metadata": {},
     "output_type": "execute_result"
    }
   ],
   "source": [
    "from pelicanfs.core import PelicanFileSystem\n",
    "\n",
    "pelfs = PelicanFileSystem(\"pelican://uwdf-director.chtc.wisc.edu\")\n",
    "parquet_files = pelfs.glob(\"/wisc.edu/dsi/pytorch/data/datasets--bigcode--the-stack-dedup/**/*.parquet\")\n",
    "parquet_files = [f\"pelican://uwdf-director.chtc.wisc.edu{path}\" for path in parquet_files]  # append pelican prefix\n",
    "parquet_files[:3]"
   ]
  },
  {
   "cell_type": "markdown",
   "id": "f07f7f56",
   "metadata": {},
   "source": [
    "+30s for globbing"
   ]
  },
  {
   "cell_type": "code",
   "execution_count": null,
   "id": "9b1b5224",
   "metadata": {},
   "outputs": [
    {
     "name": "stdout",
     "output_type": "stream",
     "text": [
      "{'hexsha': '6f6776872e7864ef2bfc0b7f65ce83c62e010ef0', 'size': tensor(788), 'ext': 'svg', 'lang': 'SVG', 'max_stars_repo_path': 'assets/svg/roundrightfill.svg', 'max_stars_repo_name': 'hzb1/happy-mobile', 'max_stars_repo_head_hexsha': 'ef3e59a50947bfe999ba5474713c1712a0ac0696', 'max_stars_repo_licenses': ['MIT'], 'max_stars_count': tensor(5), 'max_stars_repo_stars_event_min_datetime': '2019-03-10T03:12:43.000Z', 'max_stars_repo_stars_event_max_datetime': '2022-02-08T02:20:11.000Z', 'max_issues_repo_path': 'assets/svg/roundrightfill.svg', 'max_issues_repo_name': 'hzb1/happy-mobile', 'max_issues_repo_head_hexsha': 'ef3e59a50947bfe999ba5474713c1712a0ac0696', 'max_issues_repo_licenses': ['MIT'], 'max_issues_count': tensor(7), 'max_issues_repo_issues_event_min_datetime': '2019-06-11T05:05:12.000Z', 'max_issues_repo_issues_event_max_datetime': '2022-02-26T11:31:58.000Z', 'max_forks_repo_path': 'assets/svg/roundrightfill.svg', 'max_forks_repo_name': 'hzb1/happy-mobile', 'max_forks_repo_head_hexsha': 'ef3e59a50947bfe999ba5474713c1712a0ac0696', 'max_forks_repo_licenses': ['MIT'], 'max_forks_count': tensor(nan), 'max_forks_repo_forks_event_min_datetime': None, 'max_forks_repo_forks_event_max_datetime': None, 'content': '<?xml version=\"1.0\" standalone=\"no\"?><!DOCTYPE svg PUBLIC \"-//W3C//DTD SVG 1.1//EN\" \"http://www.w3.org/Graphics/SVG/1.1/DTD/svg11.dtd\"><svg class=\"icon\"  viewBox=\"0 0 1024 1024\" version=\"1.1\" xmlns=\"http://www.w3.org/2000/svg\"><path  d=\"M512 64C264.96 64 64 264.96 64 512s200.96 448 448 448 448-200.96 448-448S759.04 64 512 64zM661.76 535.968l-160.256 158.496c-6.24 6.144-14.368 9.248-22.496 9.248-8.256 0-16.512-3.168-22.752-9.504-12.416-12.576-12.32-32.8 0.256-45.248l137.408-135.904-136.288-136.672c-12.48-12.512-12.448-32.768 0.064-45.248 12.512-12.512 32.768-12.448 45.248 0.064l158.912 159.36c0.032 0.032 0.032 0.064 0.064 0.096s0.064 0.032 0.096 0.064c2.944 2.976 5.056 6.432 6.592 10.048 0.064 0.128 0.224 0.256 0.256 0.384C673.6 512.768 671.232 526.592 661.76 535.968z\" /></svg>\\n', 'avg_line_length': tensor(394.), 'max_line_length': tensor(787), 'alphanum_fraction': tensor(0.6980)}\n",
      "{'hexsha': '6f73f8d5d5a565c1de79f11edf94c8f69c6febb0', 'size': tensor(2921), 'ext': 'svg', 'lang': 'SVG', 'max_stars_repo_path': 'docs/reference/data-models/img/gcp/gcp_bucket_relationships.svg', 'max_stars_repo_name': 'someengineering/resoto.com', 'max_stars_repo_head_hexsha': '01dd6183d0e0c62fba91516a7ad904899f623698', 'max_stars_repo_licenses': ['Apache-2.0'], 'max_stars_count': tensor(nan), 'max_stars_repo_stars_event_min_datetime': None, 'max_stars_repo_stars_event_max_datetime': None, 'max_issues_repo_path': 'docs/reference/data-models/img/gcp/gcp_bucket_relationships.svg', 'max_issues_repo_name': 'someengineering/resoto.com', 'max_issues_repo_head_hexsha': '01dd6183d0e0c62fba91516a7ad904899f623698', 'max_issues_repo_licenses': ['Apache-2.0'], 'max_issues_count': tensor(53), 'max_issues_repo_issues_event_min_datetime': '2022-01-24T22:42:54.000Z', 'max_issues_repo_issues_event_max_datetime': '2022-03-31T11:25:30.000Z', 'max_forks_repo_path': 'docs/reference/data-models/img/gcp/gcp_bucket_relationships.svg', 'max_forks_repo_name': 'someengineering/resoto.com', 'max_forks_repo_head_hexsha': '01dd6183d0e0c62fba91516a7ad904899f623698', 'max_forks_repo_licenses': ['Apache-2.0'], 'max_forks_count': tensor(4), 'max_forks_repo_forks_event_min_datetime': '2022-01-25T17:11:26.000Z', 'max_forks_repo_forks_event_max_datetime': '2022-03-17T03:09:26.000Z', 'content': '<svg xmlns=\"http://www.w3.org/2000/svg\" xmlns:xlink=\"http://www.w3.org/1999/xlink\" width=\"150\" height=\"152\" contentScriptType=\"application/ecmascript\" contentStyleType=\"text/css\" style=\"width:150px;height:152px;background:#00000000\" preserveAspectRatio=\"none\" version=\"1.1\" viewBox=\"0 0 150 152\" zoomAndPan=\"magnify\"><g><a href=\"#gcp_project\" target=\"_top\" title=\"#gcp_project\" xlink:actuate=\"onRequest\" xlink:href=\"#gcp_project\" xlink:show=\"new\" xlink:title=\"#gcp_project\" xlink:type=\"simple\"><rect id=\"gcp_project\" width=\"136\" height=\"39.789\" x=\"7\" y=\"7\" fill=\"#3D176E\" codeLine=\"17\" rx=\"2.5\" ry=\"2.5\" style=\"stroke:#000d19;stroke-width:1.5\"/><ellipse cx=\"22\" cy=\"26.895\" fill=\"#E98DF7\" rx=\"11\" ry=\"11\" style=\"stroke:#000d19;stroke-width:1\"/><path fill=\"#000\" d=\"M24.9688,32.5352 Q24.3906,32.832 23.75,32.9727 Q23.1094,33.1289 22.4063,33.1289 Q19.9063,33.1289 18.5781,31.4883 Q17.2656,29.832 17.2656,26.707 Q17.2656,23.582 18.5781,21.9258 Q19.9063,20.2695 22.4063,20.2695 Q23.1094,20.2695 23.75,20.4258 Q24.4063,20.582 24.9688,20.8789 L24.9688,23.5977 Q24.3438,23.0195 23.75,22.7539 Q23.1563,22.4727 22.5313,22.4727 Q21.1875,22.4727 20.5,23.5508 Q19.8125,24.6133 19.8125,26.707 Q19.8125,28.8008 20.5,29.8789 Q21.1875,30.9414 22.5313,30.9414 Q23.1563,30.9414 23.75,30.6758 Q24.3438,30.3945 24.9688,29.8164 L24.9688,32.5352 Z\"/><text x=\"41\" y=\"32.78\" fill=\"#D9B8FF\" font-family=\"Helvetica\" font-size=\"17\" lengthAdjust=\"spacing\" textLength=\"94\">gcp_project</text></a><a href=\"#gcp_bucket\" target=\"_top\" title=\"#gcp_bucket\" xlink:actuate=\"onRequest\" xlink:href=\"#gcp_bucket\" xlink:show=\"new\" xlink:title=\"#gcp_bucket\" xlink:type=\"simple\"><rect id=\"gcp_bucket\" width=\"135\" height=\"39.789\" x=\"7.5\" y=\"107\" fill=\"#3D176E\" codeLine=\"20\" rx=\"2.5\" ry=\"2.5\" style=\"stroke:#000d19;stroke-width:1.5\"/><ellipse cx=\"22.5\" cy=\"126.894\" fill=\"#E98DF7\" rx=\"11\" ry=\"11\" style=\"stroke:#000d19;stroke-width:1\"/><path fill=\"#000\" d=\"M25.4688,132.5352 Q24.8906,132.832 24.25,132.9727 Q23.6094,133.1289 22.9063,133.1289 Q20.4063,133.1289 19.0781,131.4883 Q17.7656,129.832 17.7656,126.707 Q17.7656,123.582 19.0781,121.9258 Q20.4063,120.2695 22.9063,120.2695 Q23.6094,120.2695 24.25,120.4258 Q24.9063,120.582 25.4688,120.8789 L25.4688,123.5977 Q24.8438,123.0195 24.25,122.7539 Q23.6563,122.4727 23.0313,122.4727 Q21.6875,122.4727 21,123.5508 Q20.3125,124.6133 20.3125,126.707 Q20.3125,128.8008 21,129.8789 Q21.6875,130.9414 23.0313,130.9414 Q23.6563,130.9414 24.25,130.6758 Q24.8438,130.3945 25.4688,129.8164 L25.4688,132.5352 Z\"/><text x=\"41.5\" y=\"132.78\" fill=\"#D9B8FF\" font-family=\"Helvetica\" font-size=\"17\" lengthAdjust=\"spacing\" textLength=\"93\">gcp_bucket</text></a><path id=\"gcp_project-to-gcp_bucket\" fill=\"none\" d=\"M75,47.36 C75,62.93 75,84.9 75,101.66\" codeLine=\"23\" style=\"stroke:#1a83af;stroke-width:2\"/><polygon fill=\"#1A83AF\" points=\"75 106.68 79 97.68 75 101.68 71 97.68 75 106.68\" style=\"stroke:#1a83af;stroke-width:2\"/></g></svg>', 'avg_line_length': tensor(2921.), 'max_line_length': tensor(2921), 'alphanum_fraction': tensor(0.7254)}\n"
     ]
    }
   ],
   "source": [
    "# 10 files run fine\n",
    "def test_pelican(parquet_files: list[str], n: int | None = None) -> None:\n",
    "    if n is None:\n",
    "        data_files = parquet_files\n",
    "    else:\n",
    "        data_files = sample(parquet_files, n)\n",
    "\n",
    "    ds = load_dataset(\"parquet\", data_files=data_files, streaming=True)\n",
    "    for x in ds.with_format(\"torch\")[\"train\"].take(2):\n",
    "        print(x)\n",
    "\n",
    "\n",
    "test_pelican(parquet_files=parquet_files, n=10)"
   ]
  },
  {
   "cell_type": "code",
   "execution_count": null,
   "id": "3b083ea8",
   "metadata": {},
   "outputs": [
    {
     "name": "stdout",
     "output_type": "stream",
     "text": [
      "{'hexsha': '634a410ddc38e17420f95e7e29e5daf4fc827f10', 'size': tensor(162), 'ext': 'md', 'lang': 'Markdown', 'max_stars_repo_path': 'SystemCommands-PackageCommands.package/SycRenamePackageCommand.class/README.md', 'max_stars_repo_name': 'macta/SystemCommands', 'max_stars_repo_head_hexsha': '71f943ce069777f6708a05eb420ea75dfc5f7717', 'max_stars_repo_licenses': ['MIT'], 'max_stars_count': tensor(nan), 'max_stars_repo_stars_event_min_datetime': None, 'max_stars_repo_stars_event_max_datetime': None, 'max_issues_repo_path': 'SystemCommands-PackageCommands.package/SycRenamePackageCommand.class/README.md', 'max_issues_repo_name': 'macta/SystemCommands', 'max_issues_repo_head_hexsha': '71f943ce069777f6708a05eb420ea75dfc5f7717', 'max_issues_repo_licenses': ['MIT'], 'max_issues_count': tensor(nan), 'max_issues_repo_issues_event_min_datetime': None, 'max_issues_repo_issues_event_max_datetime': None, 'max_forks_repo_path': 'SystemCommands-PackageCommands.package/SycRenamePackageCommand.class/README.md', 'max_forks_repo_name': 'macta/SystemCommands', 'max_forks_repo_head_hexsha': '71f943ce069777f6708a05eb420ea75dfc5f7717', 'max_forks_repo_licenses': ['MIT'], 'max_forks_count': tensor(nan), 'max_forks_repo_forks_event_min_datetime': None, 'max_forks_repo_forks_event_max_datetime': None, 'content': 'I am a command to rename given package.\\n \\nInternal Representation and Key Implementation Points.\\n\\n    Instance Variables\\n\\tnewName:\\t\\t<String>\\n\\tpackage:\\t\\t<RPackage>', 'avg_line_length': tensor(23.1429), 'max_line_length': tensor(54), 'alphanum_fraction': tensor(0.7654)}\n",
      "{'hexsha': '634a96565ca32ca664242b5d27c9fcd7ecdb2973', 'size': tensor(43), 'ext': 'md', 'lang': 'Markdown', 'max_stars_repo_path': 'README.md', 'max_stars_repo_name': 'Ruscigno/mastering-javascript', 'max_stars_repo_head_hexsha': '68a35e0cf95d8069cffeda0ab99689e03e4b7ea9', 'max_stars_repo_licenses': ['MIT'], 'max_stars_count': tensor(nan), 'max_stars_repo_stars_event_min_datetime': None, 'max_stars_repo_stars_event_max_datetime': None, 'max_issues_repo_path': 'README.md', 'max_issues_repo_name': 'Ruscigno/mastering-javascript', 'max_issues_repo_head_hexsha': '68a35e0cf95d8069cffeda0ab99689e03e4b7ea9', 'max_issues_repo_licenses': ['MIT'], 'max_issues_count': tensor(nan), 'max_issues_repo_issues_event_min_datetime': None, 'max_issues_repo_issues_event_max_datetime': None, 'max_forks_repo_path': 'README.md', 'max_forks_repo_name': 'Ruscigno/mastering-javascript', 'max_forks_repo_head_hexsha': '68a35e0cf95d8069cffeda0ab99689e03e4b7ea9', 'max_forks_repo_licenses': ['MIT'], 'max_forks_count': tensor(nan), 'max_forks_repo_forks_event_min_datetime': None, 'max_forks_repo_forks_event_max_datetime': None, 'content': '# mastering-javascript\\nLearning JavaScript\\n', 'avg_line_length': tensor(14.3333), 'max_line_length': tensor(22), 'alphanum_fraction': tensor(0.8605)}\n"
     ]
    }
   ],
   "source": [
    "test_pelican(parquet_files=parquet_files, n=100)\n",
    "\n",
    "# 100 occasionally fails\n",
    "# Note that the file mentioned in the file not found error vary between runs"
   ]
  },
  {
   "cell_type": "code",
   "execution_count": 40,
   "id": "d27ef27d",
   "metadata": {},
   "outputs": [
    {
     "ename": "FileNotFoundError",
     "evalue": "Unable to find 'pelican://uwdf-director.chtc.wisc.edu/wisc.edu/dsi/pytorch/data/datasets--bigcode--the-stack-dedup/snapshots/17cad72c886a2858e08d4c349a00d6466f54df63/data/coldfusion/data-00000-of-00001.parquet'",
     "output_type": "error",
     "traceback": [
      "\u001b[31m---------------------------------------------------------------------------\u001b[39m",
      "\u001b[31mFileNotFoundError\u001b[39m                         Traceback (most recent call last)",
      "\u001b[36mCell\u001b[39m\u001b[36m \u001b[39m\u001b[32mIn[40]\u001b[39m\u001b[32m, line 2\u001b[39m\n\u001b[32m      1\u001b[39m \u001b[38;5;66;03m# Full dataset always fails\u001b[39;00m\n\u001b[32m----> \u001b[39m\u001b[32m2\u001b[39m \u001b[43mtest_pelican\u001b[49m\u001b[43m(\u001b[49m\u001b[43mparquet_files\u001b[49m\u001b[43m=\u001b[49m\u001b[43mparquet_files\u001b[49m\u001b[43m)\u001b[49m\n",
      "\u001b[36mCell\u001b[39m\u001b[36m \u001b[39m\u001b[32mIn[36]\u001b[39m\u001b[32m, line 9\u001b[39m, in \u001b[36mtest_pelican\u001b[39m\u001b[34m(parquet_files, n)\u001b[39m\n\u001b[32m      6\u001b[39m \u001b[38;5;28;01melse\u001b[39;00m:\n\u001b[32m      7\u001b[39m     data_files = sample(parquet_files, n)\n\u001b[32m----> \u001b[39m\u001b[32m9\u001b[39m ds = \u001b[43mload_dataset\u001b[49m\u001b[43m(\u001b[49m\u001b[33;43m\"\u001b[39;49m\u001b[33;43mparquet\u001b[39;49m\u001b[33;43m\"\u001b[39;49m\u001b[43m,\u001b[49m\u001b[43m \u001b[49m\u001b[43mdata_files\u001b[49m\u001b[43m=\u001b[49m\u001b[43mdata_files\u001b[49m\u001b[43m,\u001b[49m\u001b[43m \u001b[49m\u001b[43mstreaming\u001b[49m\u001b[43m=\u001b[49m\u001b[38;5;28;43;01mTrue\u001b[39;49;00m\u001b[43m)\u001b[49m\n\u001b[32m     10\u001b[39m \u001b[38;5;28;01mfor\u001b[39;00m x \u001b[38;5;129;01min\u001b[39;00m ds.with_format(\u001b[33m\"\u001b[39m\u001b[33mtorch\u001b[39m\u001b[33m\"\u001b[39m)[\u001b[33m\"\u001b[39m\u001b[33mtrain\u001b[39m\u001b[33m\"\u001b[39m].take(\u001b[32m2\u001b[39m):\n\u001b[32m     11\u001b[39m     \u001b[38;5;28mprint\u001b[39m(x)\n",
      "\u001b[36mFile \u001b[39m\u001b[32m~/repo/pelican-data-loader/.venv/lib/python3.12/site-packages/datasets/load.py:1392\u001b[39m, in \u001b[36mload_dataset\u001b[39m\u001b[34m(path, name, data_dir, data_files, split, cache_dir, features, download_config, download_mode, verification_mode, keep_in_memory, save_infos, revision, token, streaming, num_proc, storage_options, **config_kwargs)\u001b[39m\n\u001b[32m   1387\u001b[39m verification_mode = VerificationMode(\n\u001b[32m   1388\u001b[39m     (verification_mode \u001b[38;5;129;01mor\u001b[39;00m VerificationMode.BASIC_CHECKS) \u001b[38;5;28;01mif\u001b[39;00m \u001b[38;5;129;01mnot\u001b[39;00m save_infos \u001b[38;5;28;01melse\u001b[39;00m VerificationMode.ALL_CHECKS\n\u001b[32m   1389\u001b[39m )\n\u001b[32m   1391\u001b[39m \u001b[38;5;66;03m# Create a dataset builder\u001b[39;00m\n\u001b[32m-> \u001b[39m\u001b[32m1392\u001b[39m builder_instance = \u001b[43mload_dataset_builder\u001b[49m\u001b[43m(\u001b[49m\n\u001b[32m   1393\u001b[39m \u001b[43m    \u001b[49m\u001b[43mpath\u001b[49m\u001b[43m=\u001b[49m\u001b[43mpath\u001b[49m\u001b[43m,\u001b[49m\n\u001b[32m   1394\u001b[39m \u001b[43m    \u001b[49m\u001b[43mname\u001b[49m\u001b[43m=\u001b[49m\u001b[43mname\u001b[49m\u001b[43m,\u001b[49m\n\u001b[32m   1395\u001b[39m \u001b[43m    \u001b[49m\u001b[43mdata_dir\u001b[49m\u001b[43m=\u001b[49m\u001b[43mdata_dir\u001b[49m\u001b[43m,\u001b[49m\n\u001b[32m   1396\u001b[39m \u001b[43m    \u001b[49m\u001b[43mdata_files\u001b[49m\u001b[43m=\u001b[49m\u001b[43mdata_files\u001b[49m\u001b[43m,\u001b[49m\n\u001b[32m   1397\u001b[39m \u001b[43m    \u001b[49m\u001b[43mcache_dir\u001b[49m\u001b[43m=\u001b[49m\u001b[43mcache_dir\u001b[49m\u001b[43m,\u001b[49m\n\u001b[32m   1398\u001b[39m \u001b[43m    \u001b[49m\u001b[43mfeatures\u001b[49m\u001b[43m=\u001b[49m\u001b[43mfeatures\u001b[49m\u001b[43m,\u001b[49m\n\u001b[32m   1399\u001b[39m \u001b[43m    \u001b[49m\u001b[43mdownload_config\u001b[49m\u001b[43m=\u001b[49m\u001b[43mdownload_config\u001b[49m\u001b[43m,\u001b[49m\n\u001b[32m   1400\u001b[39m \u001b[43m    \u001b[49m\u001b[43mdownload_mode\u001b[49m\u001b[43m=\u001b[49m\u001b[43mdownload_mode\u001b[49m\u001b[43m,\u001b[49m\n\u001b[32m   1401\u001b[39m \u001b[43m    \u001b[49m\u001b[43mrevision\u001b[49m\u001b[43m=\u001b[49m\u001b[43mrevision\u001b[49m\u001b[43m,\u001b[49m\n\u001b[32m   1402\u001b[39m \u001b[43m    \u001b[49m\u001b[43mtoken\u001b[49m\u001b[43m=\u001b[49m\u001b[43mtoken\u001b[49m\u001b[43m,\u001b[49m\n\u001b[32m   1403\u001b[39m \u001b[43m    \u001b[49m\u001b[43mstorage_options\u001b[49m\u001b[43m=\u001b[49m\u001b[43mstorage_options\u001b[49m\u001b[43m,\u001b[49m\n\u001b[32m   1404\u001b[39m \u001b[43m    \u001b[49m\u001b[43m*\u001b[49m\u001b[43m*\u001b[49m\u001b[43mconfig_kwargs\u001b[49m\u001b[43m,\u001b[49m\n\u001b[32m   1405\u001b[39m \u001b[43m\u001b[49m\u001b[43m)\u001b[49m\n\u001b[32m   1407\u001b[39m \u001b[38;5;66;03m# Return iterable dataset in case of streaming\u001b[39;00m\n\u001b[32m   1408\u001b[39m \u001b[38;5;28;01mif\u001b[39;00m streaming:\n",
      "\u001b[36mFile \u001b[39m\u001b[32m~/repo/pelican-data-loader/.venv/lib/python3.12/site-packages/datasets/load.py:1132\u001b[39m, in \u001b[36mload_dataset_builder\u001b[39m\u001b[34m(path, name, data_dir, data_files, cache_dir, features, download_config, download_mode, revision, token, storage_options, **config_kwargs)\u001b[39m\n\u001b[32m   1130\u001b[39m \u001b[38;5;28;01mif\u001b[39;00m features \u001b[38;5;129;01mis\u001b[39;00m \u001b[38;5;129;01mnot\u001b[39;00m \u001b[38;5;28;01mNone\u001b[39;00m:\n\u001b[32m   1131\u001b[39m     features = _fix_for_backward_compatible_features(features)\n\u001b[32m-> \u001b[39m\u001b[32m1132\u001b[39m dataset_module = \u001b[43mdataset_module_factory\u001b[49m\u001b[43m(\u001b[49m\n\u001b[32m   1133\u001b[39m \u001b[43m    \u001b[49m\u001b[43mpath\u001b[49m\u001b[43m,\u001b[49m\n\u001b[32m   1134\u001b[39m \u001b[43m    \u001b[49m\u001b[43mrevision\u001b[49m\u001b[43m=\u001b[49m\u001b[43mrevision\u001b[49m\u001b[43m,\u001b[49m\n\u001b[32m   1135\u001b[39m \u001b[43m    \u001b[49m\u001b[43mdownload_config\u001b[49m\u001b[43m=\u001b[49m\u001b[43mdownload_config\u001b[49m\u001b[43m,\u001b[49m\n\u001b[32m   1136\u001b[39m \u001b[43m    \u001b[49m\u001b[43mdownload_mode\u001b[49m\u001b[43m=\u001b[49m\u001b[43mdownload_mode\u001b[49m\u001b[43m,\u001b[49m\n\u001b[32m   1137\u001b[39m \u001b[43m    \u001b[49m\u001b[43mdata_dir\u001b[49m\u001b[43m=\u001b[49m\u001b[43mdata_dir\u001b[49m\u001b[43m,\u001b[49m\n\u001b[32m   1138\u001b[39m \u001b[43m    \u001b[49m\u001b[43mdata_files\u001b[49m\u001b[43m=\u001b[49m\u001b[43mdata_files\u001b[49m\u001b[43m,\u001b[49m\n\u001b[32m   1139\u001b[39m \u001b[43m    \u001b[49m\u001b[43mcache_dir\u001b[49m\u001b[43m=\u001b[49m\u001b[43mcache_dir\u001b[49m\u001b[43m,\u001b[49m\n\u001b[32m   1140\u001b[39m \u001b[43m\u001b[49m\u001b[43m)\u001b[49m\n\u001b[32m   1141\u001b[39m \u001b[38;5;66;03m# Get dataset builder class\u001b[39;00m\n\u001b[32m   1142\u001b[39m builder_kwargs = dataset_module.builder_kwargs\n",
      "\u001b[36mFile \u001b[39m\u001b[32m~/repo/pelican-data-loader/.venv/lib/python3.12/site-packages/datasets/load.py:912\u001b[39m, in \u001b[36mdataset_module_factory\u001b[39m\u001b[34m(path, revision, download_config, download_mode, data_dir, data_files, cache_dir, **download_kwargs)\u001b[39m\n\u001b[32m    889\u001b[39m \u001b[38;5;66;03m# We have several ways to get a dataset builder:\u001b[39;00m\n\u001b[32m    890\u001b[39m \u001b[38;5;66;03m#\u001b[39;00m\n\u001b[32m    891\u001b[39m \u001b[38;5;66;03m# - if path is the name of a packaged dataset module\u001b[39;00m\n\u001b[32m   (...)\u001b[39m\u001b[32m    903\u001b[39m \n\u001b[32m    904\u001b[39m \u001b[38;5;66;03m# Try packaged\u001b[39;00m\n\u001b[32m    905\u001b[39m \u001b[38;5;28;01mif\u001b[39;00m path \u001b[38;5;129;01min\u001b[39;00m _PACKAGED_DATASETS_MODULES:\n\u001b[32m    906\u001b[39m     \u001b[38;5;28;01mreturn\u001b[39;00m \u001b[43mPackagedDatasetModuleFactory\u001b[49m\u001b[43m(\u001b[49m\n\u001b[32m    907\u001b[39m \u001b[43m        \u001b[49m\u001b[43mpath\u001b[49m\u001b[43m,\u001b[49m\n\u001b[32m    908\u001b[39m \u001b[43m        \u001b[49m\u001b[43mdata_dir\u001b[49m\u001b[43m=\u001b[49m\u001b[43mdata_dir\u001b[49m\u001b[43m,\u001b[49m\n\u001b[32m    909\u001b[39m \u001b[43m        \u001b[49m\u001b[43mdata_files\u001b[49m\u001b[43m=\u001b[49m\u001b[43mdata_files\u001b[49m\u001b[43m,\u001b[49m\n\u001b[32m    910\u001b[39m \u001b[43m        \u001b[49m\u001b[43mdownload_config\u001b[49m\u001b[43m=\u001b[49m\u001b[43mdownload_config\u001b[49m\u001b[43m,\u001b[49m\n\u001b[32m    911\u001b[39m \u001b[43m        \u001b[49m\u001b[43mdownload_mode\u001b[49m\u001b[43m=\u001b[49m\u001b[43mdownload_mode\u001b[49m\u001b[43m,\u001b[49m\n\u001b[32m--> \u001b[39m\u001b[32m912\u001b[39m \u001b[43m    \u001b[49m\u001b[43m)\u001b[49m\u001b[43m.\u001b[49m\u001b[43mget_module\u001b[49m\u001b[43m(\u001b[49m\u001b[43m)\u001b[49m\n\u001b[32m    913\u001b[39m \u001b[38;5;66;03m# Try locally\u001b[39;00m\n\u001b[32m    914\u001b[39m \u001b[38;5;28;01melif\u001b[39;00m path.endswith(filename):\n",
      "\u001b[36mFile \u001b[39m\u001b[32m~/repo/pelican-data-loader/.venv/lib/python3.12/site-packages/datasets/load.py:526\u001b[39m, in \u001b[36mPackagedDatasetModuleFactory.get_module\u001b[39m\u001b[34m(self)\u001b[39m\n\u001b[32m    520\u001b[39m base_path = Path(\u001b[38;5;28mself\u001b[39m.data_dir \u001b[38;5;129;01mor\u001b[39;00m \u001b[33m\"\u001b[39m\u001b[33m\"\u001b[39m).expanduser().resolve().as_posix()\n\u001b[32m    521\u001b[39m patterns = (\n\u001b[32m    522\u001b[39m     sanitize_patterns(\u001b[38;5;28mself\u001b[39m.data_files)\n\u001b[32m    523\u001b[39m     \u001b[38;5;28;01mif\u001b[39;00m \u001b[38;5;28mself\u001b[39m.data_files \u001b[38;5;129;01mis\u001b[39;00m \u001b[38;5;129;01mnot\u001b[39;00m \u001b[38;5;28;01mNone\u001b[39;00m\n\u001b[32m    524\u001b[39m     \u001b[38;5;28;01melse\u001b[39;00m get_data_patterns(base_path, download_config=\u001b[38;5;28mself\u001b[39m.download_config)\n\u001b[32m    525\u001b[39m )\n\u001b[32m--> \u001b[39m\u001b[32m526\u001b[39m data_files = \u001b[43mDataFilesDict\u001b[49m\u001b[43m.\u001b[49m\u001b[43mfrom_patterns\u001b[49m\u001b[43m(\u001b[49m\n\u001b[32m    527\u001b[39m \u001b[43m    \u001b[49m\u001b[43mpatterns\u001b[49m\u001b[43m,\u001b[49m\n\u001b[32m    528\u001b[39m \u001b[43m    \u001b[49m\u001b[43mdownload_config\u001b[49m\u001b[43m=\u001b[49m\u001b[38;5;28;43mself\u001b[39;49m\u001b[43m.\u001b[49m\u001b[43mdownload_config\u001b[49m\u001b[43m,\u001b[49m\n\u001b[32m    529\u001b[39m \u001b[43m    \u001b[49m\u001b[43mbase_path\u001b[49m\u001b[43m=\u001b[49m\u001b[43mbase_path\u001b[49m\u001b[43m,\u001b[49m\n\u001b[32m    530\u001b[39m \u001b[43m\u001b[49m\u001b[43m)\u001b[49m\n\u001b[32m    532\u001b[39m module_path, \u001b[38;5;28mhash\u001b[39m = _PACKAGED_DATASETS_MODULES[\u001b[38;5;28mself\u001b[39m.name]\n\u001b[32m    534\u001b[39m builder_kwargs = {\n\u001b[32m    535\u001b[39m     \u001b[33m\"\u001b[39m\u001b[33mdata_files\u001b[39m\u001b[33m\"\u001b[39m: data_files,\n\u001b[32m    536\u001b[39m     \u001b[33m\"\u001b[39m\u001b[33mdataset_name\u001b[39m\u001b[33m\"\u001b[39m: \u001b[38;5;28mself\u001b[39m.name,\n\u001b[32m    537\u001b[39m }\n",
      "\u001b[36mFile \u001b[39m\u001b[32m~/repo/pelican-data-loader/.venv/lib/python3.12/site-packages/datasets/data_files.py:689\u001b[39m, in \u001b[36mDataFilesDict.from_patterns\u001b[39m\u001b[34m(cls, patterns, base_path, allowed_extensions, download_config)\u001b[39m\n\u001b[32m    684\u001b[39m out = \u001b[38;5;28mcls\u001b[39m()\n\u001b[32m    685\u001b[39m \u001b[38;5;28;01mfor\u001b[39;00m key, patterns_for_key \u001b[38;5;129;01min\u001b[39;00m patterns.items():\n\u001b[32m    686\u001b[39m     out[key] = (\n\u001b[32m    687\u001b[39m         patterns_for_key\n\u001b[32m    688\u001b[39m         \u001b[38;5;28;01mif\u001b[39;00m \u001b[38;5;28misinstance\u001b[39m(patterns_for_key, DataFilesList)\n\u001b[32m--> \u001b[39m\u001b[32m689\u001b[39m         \u001b[38;5;28;01melse\u001b[39;00m \u001b[43mDataFilesList\u001b[49m\u001b[43m.\u001b[49m\u001b[43mfrom_patterns\u001b[49m\u001b[43m(\u001b[49m\n\u001b[32m    690\u001b[39m \u001b[43m            \u001b[49m\u001b[43mpatterns_for_key\u001b[49m\u001b[43m,\u001b[49m\n\u001b[32m    691\u001b[39m \u001b[43m            \u001b[49m\u001b[43mbase_path\u001b[49m\u001b[43m=\u001b[49m\u001b[43mbase_path\u001b[49m\u001b[43m,\u001b[49m\n\u001b[32m    692\u001b[39m \u001b[43m            \u001b[49m\u001b[43mallowed_extensions\u001b[49m\u001b[43m=\u001b[49m\u001b[43mallowed_extensions\u001b[49m\u001b[43m,\u001b[49m\n\u001b[32m    693\u001b[39m \u001b[43m            \u001b[49m\u001b[43mdownload_config\u001b[49m\u001b[43m=\u001b[49m\u001b[43mdownload_config\u001b[49m\u001b[43m,\u001b[49m\n\u001b[32m    694\u001b[39m \u001b[43m        \u001b[49m\u001b[43m)\u001b[49m\n\u001b[32m    695\u001b[39m     )\n\u001b[32m    696\u001b[39m \u001b[38;5;28;01mreturn\u001b[39;00m out\n",
      "\u001b[36mFile \u001b[39m\u001b[32m~/repo/pelican-data-loader/.venv/lib/python3.12/site-packages/datasets/data_files.py:582\u001b[39m, in \u001b[36mDataFilesList.from_patterns\u001b[39m\u001b[34m(cls, patterns, base_path, allowed_extensions, download_config)\u001b[39m\n\u001b[32m    579\u001b[39m \u001b[38;5;28;01mfor\u001b[39;00m pattern \u001b[38;5;129;01min\u001b[39;00m patterns:\n\u001b[32m    580\u001b[39m     \u001b[38;5;28;01mtry\u001b[39;00m:\n\u001b[32m    581\u001b[39m         data_files.extend(\n\u001b[32m--> \u001b[39m\u001b[32m582\u001b[39m             \u001b[43mresolve_pattern\u001b[49m\u001b[43m(\u001b[49m\n\u001b[32m    583\u001b[39m \u001b[43m                \u001b[49m\u001b[43mpattern\u001b[49m\u001b[43m,\u001b[49m\n\u001b[32m    584\u001b[39m \u001b[43m                \u001b[49m\u001b[43mbase_path\u001b[49m\u001b[43m=\u001b[49m\u001b[43mbase_path\u001b[49m\u001b[43m,\u001b[49m\n\u001b[32m    585\u001b[39m \u001b[43m                \u001b[49m\u001b[43mallowed_extensions\u001b[49m\u001b[43m=\u001b[49m\u001b[43mallowed_extensions\u001b[49m\u001b[43m,\u001b[49m\n\u001b[32m    586\u001b[39m \u001b[43m                \u001b[49m\u001b[43mdownload_config\u001b[49m\u001b[43m=\u001b[49m\u001b[43mdownload_config\u001b[49m\u001b[43m,\u001b[49m\n\u001b[32m    587\u001b[39m \u001b[43m            \u001b[49m\u001b[43m)\u001b[49m\n\u001b[32m    588\u001b[39m         )\n\u001b[32m    589\u001b[39m     \u001b[38;5;28;01mexcept\u001b[39;00m \u001b[38;5;167;01mFileNotFoundError\u001b[39;00m:\n\u001b[32m    590\u001b[39m         \u001b[38;5;28;01mif\u001b[39;00m \u001b[38;5;129;01mnot\u001b[39;00m has_magic(pattern):\n",
      "\u001b[36mFile \u001b[39m\u001b[32m~/repo/pelican-data-loader/.venv/lib/python3.12/site-packages/datasets/data_files.py:383\u001b[39m, in \u001b[36mresolve_pattern\u001b[39m\u001b[34m(pattern, base_path, allowed_extensions, download_config)\u001b[39m\n\u001b[32m    381\u001b[39m     \u001b[38;5;28;01mif\u001b[39;00m allowed_extensions \u001b[38;5;129;01mis\u001b[39;00m \u001b[38;5;129;01mnot\u001b[39;00m \u001b[38;5;28;01mNone\u001b[39;00m:\n\u001b[32m    382\u001b[39m         error_msg += \u001b[33mf\u001b[39m\u001b[33m\"\u001b[39m\u001b[33m with any supported extension \u001b[39m\u001b[38;5;132;01m{\u001b[39;00m\u001b[38;5;28mlist\u001b[39m(allowed_extensions)\u001b[38;5;132;01m}\u001b[39;00m\u001b[33m\"\u001b[39m\n\u001b[32m--> \u001b[39m\u001b[32m383\u001b[39m     \u001b[38;5;28;01mraise\u001b[39;00m \u001b[38;5;167;01mFileNotFoundError\u001b[39;00m(error_msg)\n\u001b[32m    384\u001b[39m \u001b[38;5;28;01mreturn\u001b[39;00m out\n",
      "\u001b[31mFileNotFoundError\u001b[39m: Unable to find 'pelican://uwdf-director.chtc.wisc.edu/wisc.edu/dsi/pytorch/data/datasets--bigcode--the-stack-dedup/snapshots/17cad72c886a2858e08d4c349a00d6466f54df63/data/coldfusion/data-00000-of-00001.parquet'"
     ]
    }
   ],
   "source": [
    "# Full dataset always fails\n",
    "test_pelican(parquet_files=parquet_files)\n"
   ]
  }
 ],
 "metadata": {
  "kernelspec": {
   "display_name": "pelican-data-loader",
   "language": "python",
   "name": "python3"
  },
  "language_info": {
   "codemirror_mode": {
    "name": "ipython",
    "version": 3
   },
   "file_extension": ".py",
   "mimetype": "text/x-python",
   "name": "python",
   "nbconvert_exporter": "python",
   "pygments_lexer": "ipython3",
   "version": "3.12.11"
  }
 },
 "nbformat": 4,
 "nbformat_minor": 5
}
