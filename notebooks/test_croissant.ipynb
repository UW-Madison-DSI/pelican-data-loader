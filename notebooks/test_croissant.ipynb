{
 "cells": [
  {
   "cell_type": "code",
   "execution_count": null,
   "id": "9e42ff52",
   "metadata": {},
   "outputs": [],
   "source": [
    "import os\n",
    "\n",
    "os.chdir(\"..\")"
   ]
  },
  {
   "cell_type": "code",
   "execution_count": null,
   "id": "f45f251e",
   "metadata": {},
   "outputs": [],
   "source": [
    "import pandas as pd\n"
   ]
  },
  {
   "cell_type": "code",
   "execution_count": 28,
   "id": "fc102407",
   "metadata": {},
   "outputs": [
    {
     "data": {
      "text/plain": [
       "Index(['Bird_ID', 'Species', 'Region', 'Habitat', 'Weather_Condition',\n",
       "       'Migration_Reason', 'Start_Latitude', 'Start_Longitude', 'End_Latitude',\n",
       "       'End_Longitude', 'Flight_Distance_km', 'Flight_Duration_hours',\n",
       "       'Average_Speed_kmph', 'Max_Altitude_m', 'Min_Altitude_m',\n",
       "       'Temperature_C', 'Wind_Speed_kmph', 'Humidity_%', 'Pressure_hPa',\n",
       "       'Visibility_km', 'Nesting_Success', 'Tag_Battery_Level_%',\n",
       "       'Signal_Strength_dB', 'Migration_Start_Month', 'Migration_End_Month',\n",
       "       'Rest_Stops', 'Predator_Sightings', 'Tag_Type', 'Migrated_in_Flock',\n",
       "       'Flock_Size', 'Food_Supply_Level', 'Tracking_Quality',\n",
       "       'Migration_Interrupted', 'Interrupted_Reason', 'Tagged_By',\n",
       "       'Tag_Weight_g', 'Migration_Success', 'Recovery_Location_Known',\n",
       "       'Recovery_Time_days', 'Observation_Counts', 'Observation_Quality'],\n",
       "      dtype='object')"
      ]
     },
     "execution_count": 28,
     "metadata": {},
     "output_type": "execute_result"
    }
   ],
   "source": [
    "df = pd.read_csv(\"data/bird_migration_data.csv\")\n",
    "df.columns"
   ]
  }
 ],
 "metadata": {
  "kernelspec": {
   "display_name": ".venv",
   "language": "python",
   "name": "python3"
  },
  "language_info": {
   "codemirror_mode": {
    "name": "ipython",
    "version": 3
   },
   "file_extension": ".py",
   "mimetype": "text/x-python",
   "name": "python",
   "nbconvert_exporter": "python",
   "pygments_lexer": "ipython3",
   "version": "3.12.3"
  }
 },
 "nbformat": 4,
 "nbformat_minor": 5
}
