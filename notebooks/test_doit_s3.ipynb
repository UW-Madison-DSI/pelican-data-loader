{
 "cells": [
  {
   "cell_type": "code",
   "execution_count": null,
   "id": "514241ac",
   "metadata": {},
   "outputs": [],
   "source": [
    "import os\n",
    "\n",
    "os.chdir(\"..\")"
   ]
  },
  {
   "cell_type": "code",
   "execution_count": null,
   "id": "1b8d5df8",
   "metadata": {},
   "outputs": [],
   "source": [
    "import minio\n",
    "from dotenv import load_dotenv\n",
    "\n",
    "load_dotenv()"
   ]
  },
  {
   "cell_type": "code",
   "execution_count": null,
   "id": "c68daf83",
   "metadata": {},
   "outputs": [],
   "source": [
    "def get_minio_client() -> minio.Minio:\n",
    "    \"\"\"Get a MinIO client instance.\"\"\"\n",
    "\n",
    "    # Check if the environment variables are set\n",
    "    if not (S3_ENDPOINT_URL := os.getenv(\"S3_ENDPOINT_URL\")):\n",
    "        raise ValueError(\"S3_ENDPOINT_URL environment variable is not set.\")\n",
    "    if not (S3_ACCESS_KEY_ID := os.getenv(\"S3_ACCESS_KEY_ID\")):\n",
    "        raise ValueError(\"S3_ACCESS_KEY_ID environment variable is not set.\")\n",
    "    if not (S3_SECRET_ACCESS_KEY := os.getenv(\"S3_SECRET_ACCESS_KEY\")):\n",
    "        raise ValueError(\"S3_SECRET_ACCESS_KEY environment variable is not set.\")\n",
    "\n",
    "    return minio.Minio(\n",
    "        endpoint=S3_ENDPOINT_URL,\n",
    "        access_key=S3_ACCESS_KEY_ID,\n",
    "        secret_key=S3_SECRET_ACCESS_KEY,\n",
    "    )"
   ]
  },
  {
   "cell_type": "code",
   "execution_count": null,
   "id": "2ba1019e",
   "metadata": {},
   "outputs": [],
   "source": [
    "s3 = get_minio_client()"
   ]
  },
  {
   "cell_type": "code",
   "execution_count": null,
   "id": "b947a446",
   "metadata": {},
   "outputs": [],
   "source": [
    "s3.list_buckets()"
   ]
  },
  {
   "cell_type": "code",
   "execution_count": null,
   "id": "fe499bc2",
   "metadata": {},
   "outputs": [],
   "source": [
    "# upload README.md to pelican-data-loader bucket\n",
    "\n",
    "s3.put_object(\n",
    "    bucket_name=\"pelican-data-loader\",\n",
    "    object_name=\"README.md\",\n",
    "    data=open(\"README.md\", \"rb\"),\n",
    "    length=os.path.getsize(\"README.md\"),\n",
    ")"
   ]
  },
  {
   "cell_type": "code",
   "execution_count": null,
   "id": "ad3e86da",
   "metadata": {},
   "outputs": [],
   "source": [
    "s3.put_object(\n",
    "    bucket_name=\"pelican-data-loader\",\n",
    "    object_name=\"data/bird_migration_data.csv\",\n",
    "    data=open(\"data/bird_migration_data.csv\", \"rb\"),\n",
    "    length=os.path.getsize(\"data/bird_migration_data.csv\"),\n",
    ")"
   ]
  }
 ],
 "metadata": {
  "kernelspec": {
   "display_name": ".venv",
   "language": "python",
   "name": "python3"
  },
  "language_info": {
   "codemirror_mode": {
    "name": "ipython",
    "version": 3
   },
   "file_extension": ".py",
   "mimetype": "text/x-python",
   "name": "python",
   "nbconvert_exporter": "python",
   "pygments_lexer": "ipython3",
   "version": "3.12.3"
  }
 },
 "nbformat": 4,
 "nbformat_minor": 5
}
